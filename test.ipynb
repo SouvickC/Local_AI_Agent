{
 "cells": [
  {
   "cell_type": "code",
   "execution_count": 2,
   "id": "8dedfcbb",
   "metadata": {},
   "outputs": [
    {
     "name": "stdout",
     "output_type": "stream",
     "text": [
      "Okay, let's break down lambda functions in Python.\n",
      "\n",
      "**What is a Lambda Function?**\n",
      "\n",
      "A lambda function, also often referred to as a \"anonymous function,\" is a small, single-expression function that can be defined without needing to explicitly declare its name.  They are incredibly useful for simple, one-off operations when you need a function in a short, clear way.\n",
      "\n",
      "**Key Characteristics:**\n",
      "\n",
      "* **Anonymous:** They don’t have a `def` statement. You just write the code and Python executes it immediately.\n",
      "* **Single Expression:**  A lambda function typically contains only a single expression.  You can use it to perform calculations, transformations, or logic.\n",
      "* **Concise:** They're very compact and suitable for situations where you just need a function for a specific task.\n",
      "\n",
      "**How to Use Them**\n",
      "\n",
      "You define a lambda function using the `lambda` keyword.  You can then call it directly as a function name.\n",
      "\n",
      "```python\n",
      "# Lambda function to add 2 and 3\n",
      "add = lambda x, y: x + y\n",
      "\n",
      "# Use the lambda function\n",
      "result = add(5, 3)\n",
      "print(result)  # Output: 8\n",
      "\n",
      "# Another example:  Returning a value\n",
      "greet = lambda name: \"Hello, \" + name + \"!\"\n",
      "print(greet(\"World\")) # Output: Hello, World!\n",
      "```\n",
      "\n",
      "**Why Use Them?**\n",
      "\n",
      "* **Conciseness:**  They’re great for short, inline functions.\n",
      "* **Readability:** They can make your code more readable when you need a simple function for a specific task.\n",
      "* **Function Expressions:**  They’re often used in place of regular functions, especially in situations where you want to pass the function to other functions.\n",
      "\n",
      "**Where are They Commonly Used?**\n",
      "\n",
      "* **Sorting:**  Python's built-in `sorted()` function uses lambda functions to define custom sorting criteria.\n",
      "* **Data Processing:** They're frequently used in data processing pipelines for performing calculations on lists or arrays.\n",
      "* **Decorators:** Lambda functions are often used to create decorators – functions that modify the behavior of other functions.\n",
      "\n",
      "---\n",
      "\n",
      "Do you have any specific questions about lambda functions you’d like me to answer, or would you like me to elaborate on a particular aspect (e.g., examples, advanced use cases)?\n"
     ]
    }
   ],
   "source": [
    "from langchain_ollama.llms import OllamaLLM\n",
    "from langchain_core.prompts import ChatPromptTemplate\n",
    "\n",
    "\n",
    "model =OllamaLLM(model = \"gemma3:1b-it-qat\")\n",
    "\n",
    "template =\"\"\"\n",
    "You are a helpful expert in answering questions about the Python programming language.\n",
    "Here will be questions : {question}\"\"\"\n",
    "\n",
    "\n",
    "\n",
    "prompt = ChatPromptTemplate.from_template(\"Questions: {question}\")\n",
    "\n",
    "chain =prompt| model\n",
    "\n",
    "result = chain.invoke({\"question\": \"What is a lambda function in Python?\"})\n",
    "\n",
    "print(result)\n"
   ]
  },
  {
   "cell_type": "code",
   "execution_count": null,
   "id": "ee7271e1",
   "metadata": {},
   "outputs": [],
   "source": []
  },
  {
   "cell_type": "code",
   "execution_count": null,
   "id": "07251c76",
   "metadata": {},
   "outputs": [],
   "source": []
  },
  {
   "cell_type": "code",
   "execution_count": null,
   "id": "344e857d",
   "metadata": {},
   "outputs": [],
   "source": []
  },
  {
   "cell_type": "code",
   "execution_count": null,
   "id": "70da6096",
   "metadata": {},
   "outputs": [],
   "source": []
  }
 ],
 "metadata": {
  "kernelspec": {
   "display_name": "lerobot",
   "language": "python",
   "name": "python3"
  },
  "language_info": {
   "codemirror_mode": {
    "name": "ipython",
    "version": 3
   },
   "file_extension": ".py",
   "mimetype": "text/x-python",
   "name": "python",
   "nbconvert_exporter": "python",
   "pygments_lexer": "ipython3",
   "version": "3.10.18"
  }
 },
 "nbformat": 4,
 "nbformat_minor": 5
}
