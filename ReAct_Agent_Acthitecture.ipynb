{
 "cells": [
  {
   "cell_type": "markdown",
   "id": "12aad0fe",
   "metadata": {},
   "source": [
    "### ReAct Agent Architecture Chatbot"
   ]
  },
  {
   "cell_type": "code",
   "execution_count": 42,
   "id": "6f672ad6",
   "metadata": {},
   "outputs": [],
   "source": [
    "from typing import Annotated\n",
    "\n",
    "from typing_extensions import TypedDict\n",
    "\n",
    "from langgraph.graph import  StateGraph, START, END\n",
    "from langgraph.graph.message import add_messages ## work add the msg appeneded to the state"
   ]
  },
  {
   "cell_type": "code",
   "execution_count": 73,
   "id": "b32998c5",
   "metadata": {},
   "outputs": [
    {
     "data": {
      "text/plain": [
       "<langgraph.graph.state.StateGraph at 0x1ba6c6eaeb0>"
      ]
     },
     "execution_count": 73,
     "metadata": {},
     "output_type": "execute_result"
    }
   ],
   "source": [
    "## state\n",
    "class State(TypedDict):\n",
    "    # Msg have type list defines how this state key should be updated\n",
    "\n",
    "    messages : Annotated[list, add_messages] ## appended to the list\n",
    "\n",
    "graph_builder =StateGraph(State)\n",
    "\n",
    "graph_builder"
   ]
  },
  {
   "cell_type": "code",
   "execution_count": 74,
   "id": "de5e0e32",
   "metadata": {},
   "outputs": [
    {
     "data": {
      "text/plain": [
       "True"
      ]
     },
     "execution_count": 74,
     "metadata": {},
     "output_type": "execute_result"
    }
   ],
   "source": [
    "## Building the graph\n",
    "\n",
    "import os\n",
    "from dotenv import load_dotenv\n",
    "load_dotenv()\n"
   ]
  },
  {
   "cell_type": "code",
   "execution_count": 75,
   "id": "9d32c354",
   "metadata": {},
   "outputs": [],
   "source": [
    "from langchain_groq import  ChatGroq\n",
    "from langchain.chat_models import init_chat_model\n",
    "\n",
    "llm =ChatGroq(model=\"openai/gpt-oss-20b\")"
   ]
  },
  {
   "cell_type": "code",
   "execution_count": 76,
   "id": "7c270dcf",
   "metadata": {},
   "outputs": [],
   "source": [
    "## node Chatbot\n",
    "\n",
    "def chatbot(state:State):\n",
    "    return {\"messages\": [llm.invoke(state['messages'])]}"
   ]
  },
  {
   "cell_type": "code",
   "execution_count": null,
   "id": "12c0dea9",
   "metadata": {},
   "outputs": [],
   "source": [
    "# from langchain_community.tools import BraveSearch"
   ]
  },
  {
   "cell_type": "code",
   "execution_count": 107,
   "id": "918f115f",
   "metadata": {},
   "outputs": [],
   "source": [
    "from langchain_tavily import TavilySearch\n",
    "\n",
    "websearch_tool =TavilySearch(max_results=2)\n"
   ]
  },
  {
   "cell_type": "code",
   "execution_count": 108,
   "id": "a6737b58",
   "metadata": {},
   "outputs": [],
   "source": [
    "def multiply(a : int, b:int)-> int:\n",
    "    \"\"\" \n",
    "    Multiply a and b\n",
    "    Args:\n",
    "        a first int\n",
    "        b seoncd int\n",
    "    return: \n",
    "        int output\n",
    "    \"\"\"\n",
    "    return a*b\n",
    "\n",
    "def add(a : int, b:int)-> int:\n",
    "    \"\"\" \n",
    "    add a and b\n",
    "    Args:\n",
    "        a first int\n",
    "        b seoncd int\n",
    "    return: \n",
    "        int output\n",
    "    \"\"\"\n",
    "    return a+b"
   ]
  },
  {
   "cell_type": "code",
   "execution_count": 109,
   "id": "dff5ef85",
   "metadata": {},
   "outputs": [
    {
     "data": {
      "text/plain": [
       "RunnableBinding(bound=ChatGroq(client=<groq.resources.chat.completions.Completions object at 0x000001BA6C69DD10>, async_client=<groq.resources.chat.completions.AsyncCompletions object at 0x000001BA6C69E710>, model_name='openai/gpt-oss-20b', model_kwargs={}, groq_api_key=SecretStr('**********')), kwargs={'tools': [{'type': 'function', 'function': {'name': 'tavily_search', 'description': 'A search engine optimized for comprehensive, accurate, and trusted results. Useful for when you need to answer questions about current events. It not only retrieves URLs and snippets, but offers advanced search depths, domain management, time range filters, and image search, this tool delivers real-time, accurate, and citation-backed results.Input should be a search query.', 'parameters': {'properties': {'query': {'description': 'Search query to look up', 'type': 'string'}, 'include_domains': {'anyOf': [{'items': {'type': 'string'}, 'type': 'array'}, {'type': 'null'}], 'default': [], 'description': 'A list of domains to restrict search results to.\\n\\n        Use this parameter when:\\n        1. The user explicitly requests information from specific websites (e.g., \"Find climate data from nasa.gov\")\\n        2. The user mentions an organization or company without specifying the domain (e.g., \"Find information about iPhones from Apple\")\\n\\n        In both cases, you should determine the appropriate domains (e.g., [\"nasa.gov\"] or [\"apple.com\"]) and set this parameter.\\n\\n        Results will ONLY come from the specified domains - no other sources will be included.\\n        Default is None (no domain restriction).\\n        '}, 'exclude_domains': {'anyOf': [{'items': {'type': 'string'}, 'type': 'array'}, {'type': 'null'}], 'default': [], 'description': 'A list of domains to exclude from search results.\\n\\n        Use this parameter when:\\n        1. The user explicitly requests to avoid certain websites (e.g., \"Find information about climate change but not from twitter.com\")\\n        2. The user mentions not wanting results from specific organizations without naming the domain (e.g., \"Find phone reviews but nothing from Apple\")\\n\\n        In both cases, you should determine the appropriate domains to exclude (e.g., [\"twitter.com\"] or [\"apple.com\"]) and set this parameter.\\n\\n        Results will filter out all content from the specified domains.\\n        Default is None (no domain exclusion).\\n        '}, 'search_depth': {'anyOf': [{'enum': ['basic', 'advanced'], 'type': 'string'}, {'type': 'null'}], 'default': 'basic', 'description': 'Controls search thoroughness and result comprehensiveness.\\n    \\n        Use \"basic\" for simple queries requiring quick, straightforward answers.\\n        \\n        Use \"advanced\" (default) for complex queries, specialized topics, \\n        rare information, or when in-depth analysis is needed.\\n        '}, 'include_images': {'anyOf': [{'type': 'boolean'}, {'type': 'null'}], 'default': False, 'description': 'Determines if the search returns relevant images along with text results.\\n   \\n        Set to True when the user explicitly requests visuals or when images would \\n        significantly enhance understanding (e.g., \"Show me what black holes look like,\" \\n        \"Find pictures of Renaissance art\").\\n        \\n        Leave as False (default) for most informational queries where text is sufficient.\\n        '}, 'time_range': {'anyOf': [{'enum': ['day', 'week', 'month', 'year'], 'type': 'string'}, {'type': 'null'}], 'default': None, 'description': 'Limits results to content published within a specific timeframe.\\n        \\n        ONLY set this when the user explicitly mentions a time period \\n        (e.g., \"latest AI news,\" \"articles from last week\").\\n        \\n        For less popular or niche topics, use broader time ranges \\n        (\"month\" or \"year\") to ensure sufficient relevant results.\\n   \\n        Options: \"day\" (24h), \"week\" (7d), \"month\" (30d), \"year\" (365d).\\n        \\n        Default is None.\\n        '}, 'topic': {'anyOf': [{'enum': ['general', 'news', 'finance'], 'type': 'string'}, {'type': 'null'}], 'default': 'general', 'description': 'Specifies search category for optimized results.\\n   \\n        Use \"general\" (default) for most queries, INCLUDING those with terms like \\n        \"latest,\" \"newest,\" or \"recent\" when referring to general information.\\n\\n        Use \"finance\" for markets, investments, economic data, or financial news.\\n\\n        Use \"news\" ONLY for politics, sports, or major current events covered by \\n        mainstream media - NOT simply because a query asks for \"new\" information.\\n        '}, 'include_favicon': {'anyOf': [{'type': 'boolean'}, {'type': 'null'}], 'default': False, 'description': \"Determines whether to include favicon URLs for each search result.\\n        \\n        When enabled, each search result will include the website's favicon URL,\\n        which can be useful for:\\n        - Building rich UI interfaces with visual website indicators\\n        - Providing visual cues about the source's credibility or brand\\n        - Creating bookmark-like displays with recognizable site icons\\n        \\n        Set to True when creating user interfaces that benefit from visual branding\\n        or when favicon information enhances the user experience.\\n        \\n        Default is False to minimize response size and API usage.\\n        \"}, 'start_date': {'anyOf': [{'type': 'string'}, {'type': 'null'}], 'default': None, 'description': 'Filters search results to include only content published on or after this date.\\n        \\n        Use this parameter when you need to:\\n        - Find recent developments or updates on a topic\\n        - Exclude outdated information from search results\\n        - Focus on content within a specific timeframe\\n        - Combine with end_date to create a custom date range\\n        \\n        Format must be YYYY-MM-DD (e.g., \"2024-01-15\" for January 15, 2024).\\n        \\n        Examples:\\n        - \"2024-01-01\" - Results from January 1, 2024 onwards\\n        - \"2023-12-25\" - Results from December 25, 2023 onwards\\n        \\n        When combined with end_date, creates a precise date range filter.\\n        \\n        Default is None (no start date restriction).\\n        '}, 'end_date': {'anyOf': [{'type': 'string'}, {'type': 'null'}], 'default': None, 'description': 'Filters search results to include only content published on or before this date.\\n        \\n        Use this parameter when you need to:\\n        - Exclude content published after a certain date\\n        - Study historical information or past events\\n        - Research how topics were covered during specific time periods\\n        - Combine with start_date to create a custom date range\\n        \\n        Format must be YYYY-MM-DD (e.g., \"2024-03-31\" for March 31, 2024).\\n        \\n        Examples:\\n        - \"2024-03-31\" - Results up to and including March 31, 2024\\n        - \"2023-12-31\" - Results up to and including December 31, 2023\\n        \\n        When combined with start_date, creates a precise date range filter.\\n        For example: start_date=\"2024-01-01\", end_date=\"2024-03-31\" \\n        returns results from Q1 2024 only.\\n        \\n        Default is None (no end date restriction).\\n        '}}, 'required': ['query'], 'type': 'object'}}}, {'type': 'function', 'function': {'name': 'multiply', 'description': 'Multiply a and b\\nArgs:\\n    a first int\\n    b seoncd int\\nreturn: \\n    int output', 'parameters': {'properties': {'a': {'type': 'integer'}, 'b': {'type': 'integer'}}, 'required': ['a', 'b'], 'type': 'object'}}}]}, config={}, config_factories=[])"
      ]
     },
     "execution_count": 109,
     "metadata": {},
     "output_type": "execute_result"
    }
   ],
   "source": [
    "tools =[websearch_tool, multiply]\n",
    "llm_with_tools = llm.bind_tools(tools)\n",
    "\n",
    "llm_with_tools"
   ]
  },
  {
   "cell_type": "code",
   "execution_count": 80,
   "id": "7439e544",
   "metadata": {},
   "outputs": [
    {
     "data": {
      "image/png": "[encoded data removed]",
      "text/plain": [
       "<IPython.core.display.Image object>"
      ]
     },
     "metadata": {},
     "output_type": "display_data"
    }
   ],
   "source": [
    "## Stategraph for llm with tool\n",
    "\n",
    "from langgraph.prebuilt import ToolNode, tools_condition\n",
    "\n",
    "\n",
    "def tool_calling_llm(state:State):\n",
    "    return {\"messages\":[llm_with_tools.invoke(state[\"messages\"])]}\n",
    "\n",
    "\n",
    "# Graph\n",
    "builder = StateGraph(State)\n",
    "builder.add_node(\"tool_calling_llm\", tool_calling_llm) ## need to add the name and the definition of the node\n",
    "builder.add_node(\"tools\", ToolNode(tools))\n",
    "\n",
    "\n",
    "# edges\n",
    "builder.add_edge(START, \"tool_calling_llm\")\n",
    "builder.add_conditional_edges(\n",
    "    \"tool_calling_llm\",\n",
    "    tools_condition\n",
    "\n",
    ")\n",
    "\n",
    "## change is here giving feedback here\n",
    "\n",
    "builder.add_edge(\"tools\", \"tool_calling_llm\")\n",
    "\n",
    "graph = builder.compile()\n",
    "\n",
    "# visualize\n",
    "\n",
    "from IPython.display import Image, display\n",
    "\n",
    "try:\n",
    "    display(Image(graph.get_graph().draw_mermaid_png()))\n",
    "except Exception:\n",
    "    pass\n",
    "\n"
   ]
  },
  {
   "cell_type": "code",
   "execution_count": 81,
   "id": "8723c143",
   "metadata": {},
   "outputs": [
    {
     "name": "stdout",
     "output_type": "stream",
     "text": [
      "================================\u001b[1m Human Message \u001b[0m=================================\n",
      "\n",
      "give me the latest sora news then What 2*3.3 then add 10\n",
      "==================================\u001b[1m Ai Message \u001b[0m==================================\n",
      "Tool Calls:\n",
      "  tavily_search (fc_78d41a20-3866-45f8-8f6a-15594eecb67f)\n",
      " Call ID: fc_78d41a20-3866-45f8-8f6a-15594eecb67f\n",
      "  Args:\n",
      "    query: sora news\n",
      "    search_depth: advanced\n",
      "    topic: news\n",
      "=================================\u001b[1m Tool Message \u001b[0m=================================\n",
      "Name: tavily_search\n",
      "\n",
      "{\"query\": \"sora news\", \"follow_up_questions\": null, \"answer\": null, \"images\": [], \"results\": [{\"url\": \"https://www.nbcnews.com/tech/tech-news/openai-announces-sora-2-ai-video-audio-app-rcna234753\", \"title\": \"ChatGPT parent company OpenAI announces Sora 2 with AI video app - NBC News\", \"score\": 0.72207695, \"published_date\": \"Tue, 30 Sep 2025 19:40:04 GMT\", \"content\": \"The next generation of OpenAI's video generator is here.\\n\\nSora 2, the company's latest video and audio generation model, touts upgraded photorealistic video capabilities, and a new Sora app is being billed as a social platform for users to share, remix and discover AI-generated videos.\\n\\nIntroduced in a livestream Tuesday afternoon, Sora 2 represents the latest in a wave of multimedia generative AI tools allowing users to create increasingly realistic images, video and audio. [...] Whereas the initial version of Sora sometimes struggled to represent realistic motion, like a basketball bouncing off of a backboard, OpenAI said Tuesday that Sora 2 “is better about obeying the laws of physics.”\\n\\nDemos presented on the OpenAI website showcased photorealistic action shots of stunts such as gymnastic tumbling and skateboarding tricks, although a clip of a martial artist performing in a koi pond featured a staff that couldn't seem to hold its shape. [...] Sora 2 is also seemingly able to generate speech, something the previous version of Sora was unable to do on its own.\\n\\n\\\"The model is far from perfect and makes plenty of mistakes, but it is validation that further scaling up neural networks on video data will bring us closer to simulating reality,\\\" OpenAI wrote in its announcement.\", \"raw_content\": null}, {\"url\": \"https://www.axios.com/2025/09/30/openai-sora-app-social-ai\", \"title\": \"OpenAI's Sora app lets friends swap AI video cameos - Axios\", \"score\": 0.7018975, \"published_date\": \"Tue, 30 Sep 2025 17:09:37 GMT\", \"content\": \"Why it matters: The move is OpenAI's biggest foray yet to turn its AI tools into a social experience and follows similar moves by Meta.\\n\\nDriving the news: The Sora app on iOS requires an invitation. An Android version will follow eventually, OpenAI told Axios. [...] The social app is powered by Sora 2, a new version of OpenAI's video model, which also launched Tuesday.\\n Sora 2adds support for synchronized audio and video, including dialogue. OpenAI says Sora 2 is significantly better at simulating real-world physics, among other improvements.\\n \\\"The original Sora model from February 2024 was in many ways the GPT-1 moment for video,\\\" OpenAI said in a blog post. \\\"With Sora 2, we are jumping straight to what we think may be the GPT-3.5 moment for video.\\\" [...] Meta last week announced Vibes, its own social app for sharing AI videos.\\n Speaking to reporters ahead of the launch, the Sora team said the app is built to spark creativity over passive consumption, framing it as a tool for real-world friends.\\n The company also outlined a list of controls available for parents, including deciding whether or not teens have access to direct messages and whether their feed should be interrupted after extended scrolling.\", \"raw_content\": null}], \"response_time\": 0.94, \"request_id\": \"3c217fae-bbaa-4cf3-82f6-a2b194a21d3f\"}\n",
      "==================================\u001b[1m Ai Message \u001b[0m==================================\n",
      "\n",
      "**Latest Sora news (as of 30 Sep 2025)**  \n",
      "- **OpenAI launches Sora 2** – The next‑generation video and audio generation model, announced in a livestream on Tuesday, 30 Sep 2025. Sora 2 delivers photorealistic video, improved physics simulation, and built‑in audio generation, enabling realistic dialogue and synchronized sound. The new model powers a social‑media‑style Sora app that lets users share, remix, and discover AI‑generated videos.  \n",
      "  - *Source*: NBC News article titled “ChatGPT parent company OpenAI announces Sora 2 with AI video app” (published 30 Sep 2025).  \n",
      "  - *Source*: Axios article “OpenAI’s Sora app lets friends swap AI video cameos” (published 30 Sep 2025).  \n",
      "\n",
      "**Math calculations**\n",
      "\n",
      "1. **2 × 3.3**  \n",
      "   \\[\n",
      "   2 \\times 3.3 = 6.6\n",
      "   \\]\n",
      "\n",
      "2. **Add 10**  \n",
      "   \\[\n",
      "   6.6 + 10 = 16.6\n",
      "   \\]\n",
      "\n",
      "**Result**: **16.6**\n"
     ]
    }
   ],
   "source": [
    "## Multiplication part\n",
    "response= graph.invoke({\"messages\": \"give me the latest sora news then What 2*3.3 then add 10\"})\n",
    "response[\"messages\"][-1].content\n",
    "for m in response[\"messages\"]:\n",
    "    m.pretty_print()\n",
    "\n",
    "## here you can see tool call happened but only 1st one happened, not the multiply. "
   ]
  },
  {
   "cell_type": "code",
   "execution_count": 58,
   "id": "ed29cb75",
   "metadata": {},
   "outputs": [
    {
     "name": "stdout",
     "output_type": "stream",
     "text": [
      "================================\u001b[1m Human Message \u001b[0m=================================\n",
      "\n",
      "Who won the asia cup 2025 and thw winning team won how many times give me the sum\n",
      "==================================\u001b[1m Ai Message \u001b[0m==================================\n",
      "Tool Calls:\n",
      "  tavily_search (fc_f1e48ab7-2508-4e00-beb7-91848a379e3d)\n",
      " Call ID: fc_f1e48ab7-2508-4e00-beb7-91848a379e3d\n",
      "  Args:\n",
      "    query: Asia Cup 2025 winner\n",
      "    search_depth: advanced\n",
      "    topic: general\n",
      "=================================\u001b[1m Tool Message \u001b[0m=================================\n",
      "Name: tavily_search\n",
      "\n",
      "{\"query\": \"Asia Cup 2025 winner\", \"follow_up_questions\": null, \"answer\": null, \"images\": [], \"results\": [{\"url\": \"https://www.jagranjosh.com/general-knowledge/asia-cup-2025-winner-who-won-the-17th-edition-of-the-asia-cup-t20-check-awards-and-prize-money-1820002959-1\", \"title\": \"Asia Cup Winner 2025: Who won the 17th Edition of ... - Jagran Josh\", \"content\": \"## Asia Cup 2025 Awards Winners List\\n\\nHere is the complete award winners list for the Asia Cup 2025 season:\\n\\n Asia Cup 2025 Winner: India\\n Asia Cup 2025:  Player of the Series / Man of the Series Award: Abhishek Sharma\\n Asia Cup 2025: Player of the Match / Man of the Match (Final): Tilak Verma (69 runs in 53 balls & 2 catches) [...] On Sunday, 28 September 2025, India won the Asia Cup 2025 for the second time after 2016 in the Men's T20 Asia Cup format, marking their total 9th victory in the Asia Cup in this 17th edition of the tournament. By winning the Asia Cup 2025 in the T20 format of India against Pakistan in the grand finale, they lifted the coveted trophy once again. \\n\\nIn the 17th Edition of the Asia Cup T20 format, Team India marked their consistent performance throughout the 17th session of the Asia Cup. [...] ## On 28 September 2025, India clinched their 9th Asia Cup title by defeating Pakistan with five wickets in the grand finale of the 17th T20 edition. The tournament showcased electrifying performances, new talents, and prestigious awards. India received US$30,000 as winners, reaffirming their dominance in Asian cricket history.\\n\\nAdd as a preferred source on Google\\n\\nJoin us\", \"score\": 0.94911116, \"raw_content\": null}, {\"url\": \"https://sportstar.thehindu.com/cricket/asia-cup-2025-final-presentation-ceremony-full-list-of-award-winners-names/article70106502.ece\", \"title\": \"Asia Cup 2025 Final: Full list of award winners - Sportstar - The Hindu\", \"content\": \"India’s Tilak Varma receives a cheque after winning the Player of the Match during the presentation ceremony. | Photo Credit: AFP\\n\\nIndia beat Pakistan by five wickets in the Asia Cup 2025 Final in Dubai on Sunday to clinch the continental title for the ninth time.\\n\\nThough Pakistan delayed the post-match presentation by more than an hour, the ceremony went ahead and the winners came onto the stage to collect their awards. [...] ## IND vs PAK: Here is the list of individual award winners from the Asia Cup 2025.\\n\\nUpdated : Sep 29, 2025 05:56 IST , CHENNAI - 1 MIN READ\\n\\nTeam Sportstar\\n\\nComments\\n\\nFollow Us\\n\\nSHARE\\n\\n Copy link\\n Email\\n Facebook\\n Twitter\\n Telegram\\n LinkedIn\\n WhatsApp\\n Reddit\\n\\nREAD LATER\\n\\nSEE ALL Remove\\n\\nIndia’s Tilak Varma receives a cheque after winning the Player of the Match during the presentation ceremony. | Photo Credit: AFP\", \"score\": 0.91399205, \"raw_content\": null}], \"response_time\": 1.87, \"request_id\": \"28283fd7-3d61-4e60-8c4e-1224f5ff1418\"}\n",
      "==================================\u001b[1m Ai Message \u001b[0m==================================\n",
      "\n",
      "**Asia Cup 2025 Winner**  \n",
      "- **India** clinched the 17th edition of the T20 Asia Cup.\n",
      "\n",
      "**How many times has India won the Asia Cup (total titles up to 2025)?**  \n",
      "- India has won the Asia Cup **9 times** (including the 2025 victory).\n",
      "\n",
      "**Sum**: 9\n",
      "\n",
      "*Sources*  \n",
      "- Jagran Josh article: “Asia Cup 2025 Winner: India … marking their total 9th victory in the Asia Cup”【1†L1-L4】  \n",
      "- The Hindu Sportstar article: “India beat Pakistan … to clinch the continental title for the ninth time”【2†L1-L3】\n"
     ]
    }
   ],
   "source": [
    "response= graph.invoke({\"messages\": \"Who won the asia cup 2025 and thw winning team won how many times give me the sum\"})\n",
    "response[\"messages\"][-1].content\n",
    "for m in response[\"messages\"]:\n",
    "    m.pretty_print()"
   ]
  },
  {
   "cell_type": "markdown",
   "id": "cc6f009e",
   "metadata": {},
   "source": [
    "## Memory"
   ]
  },
  {
   "cell_type": "code",
   "execution_count": 82,
   "id": "504141d7",
   "metadata": {},
   "outputs": [],
   "source": [
    "from langgraph.checkpoint.memory import MemorySaver"
   ]
  },
  {
   "cell_type": "code",
   "execution_count": 83,
   "id": "ad0230b6",
   "metadata": {},
   "outputs": [
    {
     "data": {
      "image/png": "[encoded data removed]",
      "text/plain": [
       "<IPython.core.display.Image object>"
      ]
     },
     "metadata": {},
     "output_type": "display_data"
    }
   ],
   "source": [
    "## Stategraph for llm with tool\n",
    "\n",
    "from langgraph.prebuilt import ToolNode, tools_condition\n",
    "\n",
    "memory = MemorySaver()\n",
    "\n",
    "def tool_calling_llm(state:State):\n",
    "    return {\"messages\":[llm_with_tools.invoke(state[\"messages\"])]}\n",
    "\n",
    "\n",
    "# Graph\n",
    "builder = StateGraph(State)\n",
    "builder.add_node(\"tool_calling_llm\", tool_calling_llm) ## need to add the name and the definition of the node\n",
    "builder.add_node(\"tools\", ToolNode(tools))\n",
    "\n",
    "\n",
    "# edges\n",
    "builder.add_edge(START, \"tool_calling_llm\")\n",
    "builder.add_conditional_edges(\n",
    "    \"tool_calling_llm\",\n",
    "    tools_condition\n",
    "\n",
    ")\n",
    "\n",
    "## change is here giving feedback here\n",
    "\n",
    "builder.add_edge(\"tools\", \"tool_calling_llm\")\n",
    "\n",
    "graph = builder.compile(checkpointer=memory)\n",
    "\n",
    "# visualize\n",
    "\n",
    "from IPython.display import Image, display\n",
    "\n",
    "try:\n",
    "    display(Image(graph.get_graph().draw_mermaid_png()))\n",
    "except Exception:\n",
    "    pass\n",
    "\n"
   ]
  },
  {
   "cell_type": "code",
   "execution_count": 85,
   "id": "f5456bd7",
   "metadata": {},
   "outputs": [
    {
     "name": "stdout",
     "output_type": "stream",
     "text": [
      "================================\u001b[1m Human Message \u001b[0m=================================\n",
      "\n",
      "My name is Souvick\n",
      "==================================\u001b[1m Ai Message \u001b[0m==================================\n",
      "\n",
      "Nice to meet you, Souvick! How can I help you today?\n",
      "================================\u001b[1m Human Message \u001b[0m=================================\n",
      "\n",
      "My name is Souvick\n",
      "==================================\u001b[1m Ai Message \u001b[0m==================================\n",
      "\n",
      "Got it—nice to meet you, Souvick! How can I assist you today?\n"
     ]
    }
   ],
   "source": [
    "## thread id \n",
    "config ={\"configurable\": {\"thread_id\":\"1\"}}\n",
    "\n",
    "response= graph.invoke({\"messages\":\"My name is Souvick\"}, config=config)\n",
    "for m in response[\"messages\"]:\n",
    "    m.pretty_print()"
   ]
  },
  {
   "cell_type": "code",
   "execution_count": 87,
   "id": "6d956b39",
   "metadata": {},
   "outputs": [
    {
     "data": {
      "text/plain": [
       "'Your name is **Souvick**.'"
      ]
     },
     "execution_count": 87,
     "metadata": {},
     "output_type": "execute_result"
    }
   ],
   "source": [
    "response= graph.invoke({\"messages\":\"what is my name ?\"}, config=config)\n",
    "response[\"messages\"][-1].content"
   ]
  },
  {
   "cell_type": "markdown",
   "id": "43dcb1cd",
   "metadata": {},
   "source": [
    "## Streaming\n",
    "\n",
    "values and updates\n",
    "\n",
    "mode = update and value\n",
    "\n",
    "update >> replaced \n",
    "value >> append"
   ]
  },
  {
   "cell_type": "code",
   "execution_count": 91,
   "id": "3830648c",
   "metadata": {},
   "outputs": [
    {
     "data": {
      "image/png": "[encoded data removed]",
      "text/plain": [
       "<IPython.core.display.Image object>"
      ]
     },
     "metadata": {},
     "output_type": "display_data"
    },
    {
     "data": {
      "text/plain": [
       "'I’m not sure—could you tell me your name?'"
      ]
     },
     "execution_count": 91,
     "metadata": {},
     "output_type": "execute_result"
    }
   ],
   "source": [
    "def superbot(state:State):\n",
    "    return {\"messages\":[llm_with_tools.invoke(state[\"messages\"])]}\n",
    "\n",
    "## Stategraph for llm with tool\n",
    "\n",
    "from langgraph.prebuilt import ToolNode, tools_condition\n",
    "\n",
    "memory = MemorySaver()\n",
    "\n",
    "def tool_calling_llm(state:State):\n",
    "    return {\"messages\":[llm_with_tools.invoke(state[\"messages\"])]}\n",
    "\n",
    "\n",
    "# Graph\n",
    "builder = StateGraph(State)\n",
    "builder.add_node(\"tool_calling_llm\", tool_calling_llm) ## need to add the name and the definition of the node\n",
    "builder.add_node(\"tools\", ToolNode(tools))\n",
    "\n",
    "\n",
    "# edges\n",
    "builder.add_edge(START, \"tool_calling_llm\")\n",
    "builder.add_conditional_edges(\n",
    "    \"tool_calling_llm\",\n",
    "    tools_condition\n",
    "\n",
    ")\n",
    "\n",
    "## change is here giving feedback here\n",
    "\n",
    "builder.add_edge(\"tools\", \"tool_calling_llm\")\n",
    "\n",
    "graph = builder.compile(checkpointer=memory)\n",
    "\n",
    "# visualize\n",
    "\n",
    "from IPython.display import Image, display\n",
    "\n",
    "try:\n",
    "    display(Image(graph.get_graph().draw_mermaid_png()))\n",
    "except Exception:\n",
    "    pass\n",
    "\n",
    "\n",
    "\n",
    "## thread id \n",
    "config ={\"configurable\": {\"thread_id\":\"1\"}}\n",
    "\n",
    "response= graph.invoke({\"messages\":\"what is my name?\"}, config=config)\n",
    "response[\"messages\"][-1].content\n"
   ]
  },
  {
   "cell_type": "code",
   "execution_count": 101,
   "id": "0b59cf06",
   "metadata": {},
   "outputs": [
    {
     "name": "stdout",
     "output_type": "stream",
     "text": [
      "{'tool_calling_llm': {'messages': [AIMessage(content='Hi Souvick! 👋 I’m still here. Is there anything you’d like to chat about or need help with?', additional_kwargs={'reasoning_content': 'The user repeatedly says \"Hi Souvick here\". They might be testing the assistant. There\\'s no clear question. We should respond politely, maybe ask if they need help.'}, response_metadata={'token_usage': {'completion_tokens': 71, 'prompt_tokens': 1545, 'total_tokens': 1616, 'completion_time': 0.073739362, 'prompt_time': 0.017543733, 'queue_time': 0.087621463, 'total_time': 0.091283095, 'prompt_tokens_details': {'cached_tokens': 1280}}, 'model_name': 'openai/gpt-oss-20b', 'system_fingerprint': 'fp_80501ff3a1', 'service_tier': 'on_demand', 'finish_reason': 'stop', 'logprobs': None}, id='run--61b96626-035d-4cc3-a579-59db2b0d3466-0', usage_metadata={'input_tokens': 1545, 'output_tokens': 71, 'total_tokens': 1616})]}}\n"
     ]
    }
   ],
   "source": [
    "config ={\"configurable\": {\"thread_id\":\"3\"}}\n",
    "\n",
    "# response= graph.invoke({\"messages\":\"My name is Souvick\"}, config=config)\n",
    "for chunk in graph.stream({\"messages\": \"Hi Souvick here\"}, config, stream_mode =\"updates\"):\n",
    "    print(chunk)"
   ]
  },
  {
   "cell_type": "code",
   "execution_count": 104,
   "id": "9ed1b1af",
   "metadata": {},
   "outputs": [
    {
     "name": "stdout",
     "output_type": "stream",
     "text": [
      "{'tool_calling_llm': {'messages': [AIMessage(content='Hey Souvick! 👋 How can I assist you today? Whether you’ve got a question, need some info, or just want to chat, I’m here.', additional_kwargs={'reasoning_content': 'User repeats greeting. Likely wants to continue conversation. We can ask what they need.'}, response_metadata={'token_usage': {'completion_tokens': 63, 'prompt_tokens': 1436, 'total_tokens': 1499, 'completion_time': 0.063453216, 'prompt_time': 0.011361805, 'queue_time': 0.086416438, 'total_time': 0.074815021, 'prompt_tokens_details': {'cached_tokens': 1280}}, 'model_name': 'openai/gpt-oss-20b', 'system_fingerprint': 'fp_80501ff3a1', 'service_tier': 'on_demand', 'finish_reason': 'stop', 'logprobs': None}, id='run--1d0ea1bc-05f4-4c01-a9b6-00abf10aff0c-0', usage_metadata={'input_tokens': 1436, 'output_tokens': 63, 'total_tokens': 1499})]}}\n"
     ]
    }
   ],
   "source": [
    "config ={\"configurable\": {\"thread_id\":\"2\"}}\n",
    "\n",
    "# response= graph.invoke({\"messages\":\"My name is Souvick\"}, config=config)\n",
    "for chunk in graph.stream({\"messages\": \"Hi Souvick here\"}, config, stream_mode =\"updates\"):\n",
    "    print(chunk)"
   ]
  },
  {
   "cell_type": "code",
   "execution_count": 106,
   "id": "fbc2567b",
   "metadata": {},
   "outputs": [
    {
     "name": "stdout",
     "output_type": "stream",
     "text": [
      "{'messages': [HumanMessage(content='Hi Souvick here', additional_kwargs={}, response_metadata={}, id='1ccf638d-0207-419e-a7ff-b9e1c9288821'), AIMessage(content='Hello Souvick! How can I help you today?', additional_kwargs={'reasoning_content': 'User says \"Hi Souvick here\". Probably greeting. I should respond appropriately.'}, response_metadata={'token_usage': {'completion_tokens': 39, 'prompt_tokens': 1409, 'total_tokens': 1448, 'completion_time': 0.038253653, 'prompt_time': 0.010071112, 'queue_time': 0.086652775, 'total_time': 0.048324765, 'prompt_tokens_details': {'cached_tokens': 1280}}, 'model_name': 'openai/gpt-oss-20b', 'system_fingerprint': 'fp_c5a89987dc', 'service_tier': 'on_demand', 'finish_reason': 'stop', 'logprobs': None}, id='run--f200e808-5c94-411e-999d-b75e68902956-0', usage_metadata={'input_tokens': 1409, 'output_tokens': 39, 'total_tokens': 1448}), HumanMessage(content='Hi Souvick here', additional_kwargs={}, response_metadata={}, id='731861d5-464f-4ed8-ab88-cce3b03e0536'), AIMessage(content='Hey Souvick! 👋 How can I assist you today? Whether you’ve got a question, need some info, or just want to chat, I’m here.', additional_kwargs={'reasoning_content': 'User repeats greeting. Likely wants to continue conversation. We can ask what they need.'}, response_metadata={'token_usage': {'completion_tokens': 63, 'prompt_tokens': 1436, 'total_tokens': 1499, 'completion_time': 0.063453216, 'prompt_time': 0.011361805, 'queue_time': 0.086416438, 'total_time': 0.074815021, 'prompt_tokens_details': {'cached_tokens': 1280}}, 'model_name': 'openai/gpt-oss-20b', 'system_fingerprint': 'fp_80501ff3a1', 'service_tier': 'on_demand', 'finish_reason': 'stop', 'logprobs': None}, id='run--1d0ea1bc-05f4-4c01-a9b6-00abf10aff0c-0', usage_metadata={'input_tokens': 1436, 'output_tokens': 63, 'total_tokens': 1499}), HumanMessage(content='what is my name', additional_kwargs={}, response_metadata={}, id='d6037e3e-7f33-4ec6-9a26-7227695f536d'), AIMessage(content='Your name is **Souvick**.', additional_kwargs={'reasoning_content': 'User says \"what is my name\". They previously said \"Hi Souvick here\". So answer: Souvick.'}, response_metadata={'token_usage': {'completion_tokens': 44, 'prompt_tokens': 1485, 'total_tokens': 1529, 'completion_time': 0.051376523, 'prompt_time': 0.015028256, 'queue_time': 0.087325496, 'total_time': 0.066404779, 'prompt_tokens_details': {'cached_tokens': 1280}}, 'model_name': 'openai/gpt-oss-20b', 'system_fingerprint': 'fp_e99e93f2ac', 'service_tier': 'on_demand', 'finish_reason': 'stop', 'logprobs': None}, id='run--52a2e22b-b029-427d-8dfa-82dfc94d94ab-0', usage_metadata={'input_tokens': 1485, 'output_tokens': 44, 'total_tokens': 1529}), HumanMessage(content='what is my name', additional_kwargs={}, response_metadata={}, id='947a8a1a-186e-40f4-9500-17d6d2a6302e')]}\n",
      "{'messages': [HumanMessage(content='Hi Souvick here', additional_kwargs={}, response_metadata={}, id='1ccf638d-0207-419e-a7ff-b9e1c9288821'), AIMessage(content='Hello Souvick! How can I help you today?', additional_kwargs={'reasoning_content': 'User says \"Hi Souvick here\". Probably greeting. I should respond appropriately.'}, response_metadata={'token_usage': {'completion_tokens': 39, 'prompt_tokens': 1409, 'total_tokens': 1448, 'completion_time': 0.038253653, 'prompt_time': 0.010071112, 'queue_time': 0.086652775, 'total_time': 0.048324765, 'prompt_tokens_details': {'cached_tokens': 1280}}, 'model_name': 'openai/gpt-oss-20b', 'system_fingerprint': 'fp_c5a89987dc', 'service_tier': 'on_demand', 'finish_reason': 'stop', 'logprobs': None}, id='run--f200e808-5c94-411e-999d-b75e68902956-0', usage_metadata={'input_tokens': 1409, 'output_tokens': 39, 'total_tokens': 1448}), HumanMessage(content='Hi Souvick here', additional_kwargs={}, response_metadata={}, id='731861d5-464f-4ed8-ab88-cce3b03e0536'), AIMessage(content='Hey Souvick! 👋 How can I assist you today? Whether you’ve got a question, need some info, or just want to chat, I’m here.', additional_kwargs={'reasoning_content': 'User repeats greeting. Likely wants to continue conversation. We can ask what they need.'}, response_metadata={'token_usage': {'completion_tokens': 63, 'prompt_tokens': 1436, 'total_tokens': 1499, 'completion_time': 0.063453216, 'prompt_time': 0.011361805, 'queue_time': 0.086416438, 'total_time': 0.074815021, 'prompt_tokens_details': {'cached_tokens': 1280}}, 'model_name': 'openai/gpt-oss-20b', 'system_fingerprint': 'fp_80501ff3a1', 'service_tier': 'on_demand', 'finish_reason': 'stop', 'logprobs': None}, id='run--1d0ea1bc-05f4-4c01-a9b6-00abf10aff0c-0', usage_metadata={'input_tokens': 1436, 'output_tokens': 63, 'total_tokens': 1499}), HumanMessage(content='what is my name', additional_kwargs={}, response_metadata={}, id='d6037e3e-7f33-4ec6-9a26-7227695f536d'), AIMessage(content='Your name is **Souvick**.', additional_kwargs={'reasoning_content': 'User says \"what is my name\". They previously said \"Hi Souvick here\". So answer: Souvick.'}, response_metadata={'token_usage': {'completion_tokens': 44, 'prompt_tokens': 1485, 'total_tokens': 1529, 'completion_time': 0.051376523, 'prompt_time': 0.015028256, 'queue_time': 0.087325496, 'total_time': 0.066404779, 'prompt_tokens_details': {'cached_tokens': 1280}}, 'model_name': 'openai/gpt-oss-20b', 'system_fingerprint': 'fp_e99e93f2ac', 'service_tier': 'on_demand', 'finish_reason': 'stop', 'logprobs': None}, id='run--52a2e22b-b029-427d-8dfa-82dfc94d94ab-0', usage_metadata={'input_tokens': 1485, 'output_tokens': 44, 'total_tokens': 1529}), HumanMessage(content='what is my name', additional_kwargs={}, response_metadata={}, id='947a8a1a-186e-40f4-9500-17d6d2a6302e'), AIMessage(content='You’re Souvick.', additional_kwargs={'reasoning_content': 'User repeats question. We have answered. Probably no need to repeat. Maybe ask if they want confirmation? But we can just respond that name is Souvick.'}, response_metadata={'token_usage': {'completion_tokens': 49, 'prompt_tokens': 1508, 'total_tokens': 1557, 'completion_time': 0.049125481, 'prompt_time': 0.01761242, 'queue_time': 0.086288689, 'total_time': 0.066737901, 'prompt_tokens_details': {'cached_tokens': 1280}}, 'model_name': 'openai/gpt-oss-20b', 'system_fingerprint': 'fp_77f8660d1d', 'service_tier': 'on_demand', 'finish_reason': 'stop', 'logprobs': None}, id='run--7697f33e-5e2f-4a33-b3b1-30f81e6ce543-0', usage_metadata={'input_tokens': 1508, 'output_tokens': 49, 'total_tokens': 1557})]}\n"
     ]
    }
   ],
   "source": [
    "for chunk in graph.stream({\"messages\": \"what is my name\"}, config, stream_mode =\"values\"):\n",
    "    print(chunk)"
   ]
  }
 ],
 "metadata": {
  "kernelspec": {
   "display_name": "Local_AI_Agent",
   "language": "python",
   "name": "python3"
  },
  "language_info": {
   "codemirror_mode": {
    "name": "ipython",
    "version": 3
   },
   "file_extension": ".py",
   "mimetype": "text/x-python",
   "name": "python",
   "nbconvert_exporter": "python",
   "pygments_lexer": "ipython3",
   "version": "3.13.2"
  }
 },
 "nbformat": 4,
 "nbformat_minor": 5
}
