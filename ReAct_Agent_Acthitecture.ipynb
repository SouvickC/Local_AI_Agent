{
 "cells": [
  {
   "cell_type": "markdown",
   "id": "12aad0fe",
   "metadata": {},
   "source": [
    "### ReAct Agent Architecture Chatbot"
   ]
  },
  {
   "cell_type": "code",
   "execution_count": 1,
   "id": "6f672ad6",
   "metadata": {},
   "outputs": [],
   "source": [
    "from typing import Annotated\n",
    "\n",
    "from typing_extensions import TypedDict\n",
    "\n",
    "from langgraph.graph import  StateGraph, START, END\n",
    "from langgraph.graph.message import add_messages ## work add the msg appeneded to the state"
   ]
  },
  {
   "cell_type": "code",
   "execution_count": 2,
   "id": "b32998c5",
   "metadata": {},
   "outputs": [
    {
     "data": {
      "text/plain": [
       "<langgraph.graph.state.StateGraph at 0x1ba67592cf0>"
      ]
     },
     "execution_count": 2,
     "metadata": {},
     "output_type": "execute_result"
    }
   ],
   "source": [
    "## state\n",
    "class State(TypedDict):\n",
    "    # Msg have type list defines how this state key should be updated\n",
    "\n",
    "    messages : Annotated[list, add_messages] ## appended to the list\n",
    "\n",
    "graph_bilder =StateGraph(State)\n",
    "\n",
    "graph_bilder"
   ]
  },
  {
   "cell_type": "code",
   "execution_count": 11,
   "id": "de5e0e32",
   "metadata": {},
   "outputs": [
    {
     "data": {
      "text/plain": [
       "True"
      ]
     },
     "execution_count": 11,
     "metadata": {},
     "output_type": "execute_result"
    }
   ],
   "source": [
    "## Building the graph\n",
    "\n",
    "import os\n",
    "from dotenv import load_dotenv\n",
    "load_dotenv()\n"
   ]
  },
  {
   "cell_type": "code",
   "execution_count": 4,
   "id": "9d32c354",
   "metadata": {},
   "outputs": [],
   "source": [
    "from langchain_groq import  ChatGroq\n",
    "from langchain.chat_models import init_chat_model\n",
    "\n",
    "llm =ChatGroq(model=\"openai/gpt-oss-20b\")"
   ]
  },
  {
   "cell_type": "code",
   "execution_count": 5,
   "id": "7c270dcf",
   "metadata": {},
   "outputs": [],
   "source": [
    "## node Chatbot\n",
    "\n",
    "def chatbot(state:State):\n",
    "    return {\"messages\": [llm.invoke(state['messages'])]}"
   ]
  },
  {
   "cell_type": "code",
   "execution_count": null,
   "id": "12c0dea9",
   "metadata": {},
   "outputs": [],
   "source": [
    "# from langchain_community.tools import BraveSearch"
   ]
  },
  {
   "cell_type": "code",
   "execution_count": null,
   "id": "918f115f",
   "metadata": {},
   "outputs": [
    {
     "data": {
      "text/plain": [
       "{'query': 'What is Langgraph?',\n",
       " 'follow_up_questions': None,\n",
       " 'answer': None,\n",
       " 'images': [],\n",
       " 'results': [{'url': 'https://www.langchain.com/langgraph',\n",
       "   'title': 'LangGraph',\n",
       "   'content': \"Design agent-driven user experiences with LangGraph Platform's APIs. Quickly deploy and scale your application with infrastructure built for agents. LangGraph sets the foundation for how we can build and scale AI workloads — from conversational agents, complex task automation, to custom LLM-backed experiences that 'just work'. The next chapter in building complex production-ready features with LLMs is agentic, and with LangGraph and LangSmith, LangChain delivers an out-of-the-box solution to iterate quickly, debug immediately, and scale effortlessly.” LangGraph sets the foundation for how we can build and scale AI workloads — from conversational agents, complex task automation, to custom LLM-backed experiences that 'just work'. LangGraph Platform is a service for deploying and scaling LangGraph applications, with an opinionated API for building agent UXs, plus an integrated developer studio.\",\n",
       "   'score': 0.98597,\n",
       "   'raw_content': None},\n",
       "  {'url': 'https://langchain-ai.github.io/langgraph/concepts/why-langgraph/',\n",
       "   'title': 'Learn LangGraph basics - Overview',\n",
       "   'content': \"* Learn LangGraph basics LangGraph is built for developers who want to build powerful, adaptable AI agents. * **Reliability and controllability.** Steer agent actions with moderation checks and human-in-the-loop approvals. LangGraph persists context for long-running workflows, keeping your agents on course. * **First-class streaming support.** With token-by-token streaming and streaming of intermediate steps, LangGraph gives users clear visibility into agent reasoning and actions as they unfold in real time. To get acquainted with LangGraph's key concepts and features, complete the following LangGraph basics tutorials series: 4. Add human-in-the-loop controls In completing this series of tutorials, you will build a support chatbot in LangGraph that can: * ✅ **Maintain conversation state** across calls * ✅ **Use custom state** to control its behavior\",\n",
       "   'score': 0.9834,\n",
       "   'raw_content': None}],\n",
       " 'response_time': 2.43,\n",
       " 'request_id': '6960c0e2-e9b5-4d26-8a61-71ded34afe2a'}"
      ]
     },
     "execution_count": 10,
     "metadata": {},
     "output_type": "execute_result"
    }
   ],
   "source": [
    "from langchain_tavily import TavilySearch\n",
    "\n",
    "tool =TavilySearch(max_results=2)\n",
    "## Testing \n",
    "tool.invoke(\"What is Langgraph?\")"
   ]
  },
  {
   "cell_type": "code",
   "execution_count": 12,
   "id": "a6737b58",
   "metadata": {},
   "outputs": [],
   "source": [
    "def multiply(a : int, b:int)-> int:\n",
    "    \"\"\" \n",
    "    Multiply a and b\n",
    "    Args:\n",
    "        a first int\n",
    "        b seoncd int\n",
    "    return: \n",
    "        int output\n",
    "    \"\"\"\n",
    "    return a*b"
   ]
  },
  {
   "cell_type": "code",
   "execution_count": 13,
   "id": "dff5ef85",
   "metadata": {},
   "outputs": [
    {
     "data": {
      "text/plain": [
       "RunnableBinding(bound=ChatGroq(client=<groq.resources.chat.completions.Completions object at 0x000001BA679F27B0>, async_client=<groq.resources.chat.completions.AsyncCompletions object at 0x000001BA679F34D0>, model_name='openai/gpt-oss-20b', model_kwargs={}, groq_api_key=SecretStr('**********')), kwargs={'tools': [{'type': 'function', 'function': {'name': 'tavily_search', 'description': 'A search engine optimized for comprehensive, accurate, and trusted results. Useful for when you need to answer questions about current events. It not only retrieves URLs and snippets, but offers advanced search depths, domain management, time range filters, and image search, this tool delivers real-time, accurate, and citation-backed results.Input should be a search query.', 'parameters': {'properties': {'query': {'description': 'Search query to look up', 'type': 'string'}, 'include_domains': {'anyOf': [{'items': {'type': 'string'}, 'type': 'array'}, {'type': 'null'}], 'default': [], 'description': 'A list of domains to restrict search results to.\\n\\n        Use this parameter when:\\n        1. The user explicitly requests information from specific websites (e.g., \"Find climate data from nasa.gov\")\\n        2. The user mentions an organization or company without specifying the domain (e.g., \"Find information about iPhones from Apple\")\\n\\n        In both cases, you should determine the appropriate domains (e.g., [\"nasa.gov\"] or [\"apple.com\"]) and set this parameter.\\n\\n        Results will ONLY come from the specified domains - no other sources will be included.\\n        Default is None (no domain restriction).\\n        '}, 'exclude_domains': {'anyOf': [{'items': {'type': 'string'}, 'type': 'array'}, {'type': 'null'}], 'default': [], 'description': 'A list of domains to exclude from search results.\\n\\n        Use this parameter when:\\n        1. The user explicitly requests to avoid certain websites (e.g., \"Find information about climate change but not from twitter.com\")\\n        2. The user mentions not wanting results from specific organizations without naming the domain (e.g., \"Find phone reviews but nothing from Apple\")\\n\\n        In both cases, you should determine the appropriate domains to exclude (e.g., [\"twitter.com\"] or [\"apple.com\"]) and set this parameter.\\n\\n        Results will filter out all content from the specified domains.\\n        Default is None (no domain exclusion).\\n        '}, 'search_depth': {'anyOf': [{'enum': ['basic', 'advanced'], 'type': 'string'}, {'type': 'null'}], 'default': 'basic', 'description': 'Controls search thoroughness and result comprehensiveness.\\n    \\n        Use \"basic\" for simple queries requiring quick, straightforward answers.\\n        \\n        Use \"advanced\" (default) for complex queries, specialized topics, \\n        rare information, or when in-depth analysis is needed.\\n        '}, 'include_images': {'anyOf': [{'type': 'boolean'}, {'type': 'null'}], 'default': False, 'description': 'Determines if the search returns relevant images along with text results.\\n   \\n        Set to True when the user explicitly requests visuals or when images would \\n        significantly enhance understanding (e.g., \"Show me what black holes look like,\" \\n        \"Find pictures of Renaissance art\").\\n        \\n        Leave as False (default) for most informational queries where text is sufficient.\\n        '}, 'time_range': {'anyOf': [{'enum': ['day', 'week', 'month', 'year'], 'type': 'string'}, {'type': 'null'}], 'default': None, 'description': 'Limits results to content published within a specific timeframe.\\n        \\n        ONLY set this when the user explicitly mentions a time period \\n        (e.g., \"latest AI news,\" \"articles from last week\").\\n        \\n        For less popular or niche topics, use broader time ranges \\n        (\"month\" or \"year\") to ensure sufficient relevant results.\\n   \\n        Options: \"day\" (24h), \"week\" (7d), \"month\" (30d), \"year\" (365d).\\n        \\n        Default is None.\\n        '}, 'topic': {'anyOf': [{'enum': ['general', 'news', 'finance'], 'type': 'string'}, {'type': 'null'}], 'default': 'general', 'description': 'Specifies search category for optimized results.\\n   \\n        Use \"general\" (default) for most queries, INCLUDING those with terms like \\n        \"latest,\" \"newest,\" or \"recent\" when referring to general information.\\n\\n        Use \"finance\" for markets, investments, economic data, or financial news.\\n\\n        Use \"news\" ONLY for politics, sports, or major current events covered by \\n        mainstream media - NOT simply because a query asks for \"new\" information.\\n        '}, 'include_favicon': {'anyOf': [{'type': 'boolean'}, {'type': 'null'}], 'default': False, 'description': \"Determines whether to include favicon URLs for each search result.\\n        \\n        When enabled, each search result will include the website's favicon URL,\\n        which can be useful for:\\n        - Building rich UI interfaces with visual website indicators\\n        - Providing visual cues about the source's credibility or brand\\n        - Creating bookmark-like displays with recognizable site icons\\n        \\n        Set to True when creating user interfaces that benefit from visual branding\\n        or when favicon information enhances the user experience.\\n        \\n        Default is False to minimize response size and API usage.\\n        \"}, 'start_date': {'anyOf': [{'type': 'string'}, {'type': 'null'}], 'default': None, 'description': 'Filters search results to include only content published on or after this date.\\n        \\n        Use this parameter when you need to:\\n        - Find recent developments or updates on a topic\\n        - Exclude outdated information from search results\\n        - Focus on content within a specific timeframe\\n        - Combine with end_date to create a custom date range\\n        \\n        Format must be YYYY-MM-DD (e.g., \"2024-01-15\" for January 15, 2024).\\n        \\n        Examples:\\n        - \"2024-01-01\" - Results from January 1, 2024 onwards\\n        - \"2023-12-25\" - Results from December 25, 2023 onwards\\n        \\n        When combined with end_date, creates a precise date range filter.\\n        \\n        Default is None (no start date restriction).\\n        '}, 'end_date': {'anyOf': [{'type': 'string'}, {'type': 'null'}], 'default': None, 'description': 'Filters search results to include only content published on or before this date.\\n        \\n        Use this parameter when you need to:\\n        - Exclude content published after a certain date\\n        - Study historical information or past events\\n        - Research how topics were covered during specific time periods\\n        - Combine with start_date to create a custom date range\\n        \\n        Format must be YYYY-MM-DD (e.g., \"2024-03-31\" for March 31, 2024).\\n        \\n        Examples:\\n        - \"2024-03-31\" - Results up to and including March 31, 2024\\n        - \"2023-12-31\" - Results up to and including December 31, 2023\\n        \\n        When combined with start_date, creates a precise date range filter.\\n        For example: start_date=\"2024-01-01\", end_date=\"2024-03-31\" \\n        returns results from Q1 2024 only.\\n        \\n        Default is None (no end date restriction).\\n        '}}, 'required': ['query'], 'type': 'object'}}}, {'type': 'function', 'function': {'name': 'multiply', 'description': 'Multiply a and b\\nArgs:\\n    a first int\\n    b seoncd int\\nreturn: \\n    int output', 'parameters': {'properties': {'a': {'type': 'integer'}, 'b': {'type': 'integer'}}, 'required': ['a', 'b'], 'type': 'object'}}}]}, config={}, config_factories=[])"
      ]
     },
     "execution_count": 13,
     "metadata": {},
     "output_type": "execute_result"
    }
   ],
   "source": [
    "tools =[tool, multiply]\n",
    "llm_with_tools = llm.bind_tools(tools)\n",
    "\n",
    "llm_with_tools"
   ]
  },
  {
   "cell_type": "code",
   "execution_count": 20,
   "id": "7439e544",
   "metadata": {},
   "outputs": [
    {
     "data": {
      "image/png": "[encoded data removed]",
      "text/plain": [
       "<IPython.core.display.Image object>"
      ]
     },
     "metadata": {},
     "output_type": "display_data"
    }
   ],
   "source": [
    "## Stategraph for llm with tool\n",
    "\n",
    "from langgraph.prebuilt import ToolNode, tools_condition\n",
    "\n",
    "\n",
    "def tool_calling_llm(state:State):\n",
    "    return {\"messages\":[llm_with_tools.invoke(state[\"messages\"])]}\n",
    "\n",
    "\n",
    "# Graph\n",
    "builder = StateGraph(State)\n",
    "builder.add_node(\"tool_calling_llm\", tool_calling_llm) ## need to add the name and the definition of the node\n",
    "builder.add_node(\"tools\", ToolNode(tools))\n",
    "\n",
    "\n",
    "# edges\n",
    "builder.add_edge(START, \"tool_calling_llm\")\n",
    "builder.add_conditional_edges(\n",
    "    \"tool_calling_llm\",\n",
    "    tools_condition\n",
    "\n",
    ")\n",
    "\n",
    "## change is here giving feedback here\n",
    "\n",
    "builder.add_edge(\"tools\", \"tool_calling_llm\")\n",
    "\n",
    "graph = builder.compile()\n",
    "\n",
    "# visualize\n",
    "\n",
    "from IPython.display import Image, display\n",
    "\n",
    "try:\n",
    "    display(Image(graph.get_graph().draw_mermaid_png()))\n",
    "except Exception:\n",
    "    pass\n",
    "\n"
   ]
  },
  {
   "cell_type": "code",
   "execution_count": 21,
   "id": "8723c143",
   "metadata": {},
   "outputs": [
    {
     "name": "stdout",
     "output_type": "stream",
     "text": [
      "================================\u001b[1m Human Message \u001b[0m=================================\n",
      "\n",
      "give me the latest sora news then What 2*3.3 then add 10\n",
      "==================================\u001b[1m Ai Message \u001b[0m==================================\n",
      "Tool Calls:\n",
      "  tavily_search (fc_3eee5348-2c48-41bc-9169-e216998d6864)\n",
      " Call ID: fc_3eee5348-2c48-41bc-9169-e216998d6864\n",
      "  Args:\n",
      "    query: Sora news\n",
      "    search_depth: advanced\n",
      "    time_range: day\n",
      "    topic: news\n",
      "=================================\u001b[1m Tool Message \u001b[0m=================================\n",
      "Name: tavily_search\n",
      "\n",
      "{\"query\": \"Sora news\", \"follow_up_questions\": null, \"answer\": null, \"images\": [], \"results\": [{\"url\": \"https://www.nbcnews.com/tech/tech-news/openai-announces-sora-2-ai-video-audio-app-rcna234753\", \"title\": \"ChatGPT parent company OpenAI announces Sora 2 with AI video app - NBC News\", \"score\": 0.7065353, \"published_date\": \"Tue, 30 Sep 2025 19:40:04 GMT\", \"content\": \"The next generation of OpenAI's video generator is here.\\n\\nSora 2, the company's latest video and audio generation model, touts upgraded photorealistic video capabilities, and a new Sora app is being billed as a social platform for users to share, remix and discover AI-generated videos.\\n\\nIntroduced in a livestream Tuesday afternoon, Sora 2 represents the latest in a wave of multimedia generative AI tools allowing users to create increasingly realistic images, video and audio. [...] Whereas the initial version of Sora sometimes struggled to represent realistic motion, like a basketball bouncing off of a backboard, OpenAI said Tuesday that Sora 2 “is better about obeying the laws of physics.”\\n\\nDemos presented on the OpenAI website showcased photorealistic action shots of stunts such as gymnastic tumbling and skateboarding tricks, although a clip of a martial artist performing in a koi pond featured a staff that couldn't seem to hold its shape. [...] On Tuesday, OpenAI research scientist Gabriel Petersson showcased the model's cameo abilities by posting a video on X that featured his own likeness riding a dragon, diving off a cargo ship and running through the OpenAI office with the likeness of CEO Sam Altman.\\n\\nThe Sora app, powered by Sora 2, is now available for download on iOS systems, but access to the service remains invite-only. Users can request access through the app.\", \"raw_content\": null}, {\"url\": \"https://www.axios.com/2025/09/30/openai-sora-app-social-ai\", \"title\": \"OpenAI's Sora app lets friends swap AI video cameos - Axios\", \"score\": 0.69573146, \"published_date\": \"Tue, 30 Sep 2025 17:09:37 GMT\", \"content\": \"Why it matters: The move is OpenAI's biggest foray yet to turn its AI tools into a social experience and follows similar moves by Meta.\\n\\nDriving the news: The Sora app on iOS requires an invitation. An Android version will follow eventually, OpenAI told Axios. [...] The social app is powered by Sora 2, a new version of OpenAI's video model, which also launched Tuesday.\\n Sora 2adds support for synchronized audio and video, including dialogue. OpenAI says Sora 2 is significantly better at simulating real-world physics, among other improvements.\\n \\\"The original Sora model from February 2024 was in many ways the GPT-1 moment for video,\\\" OpenAI said in a blog post. \\\"With Sora 2, we are jumping straight to what we think may be the GPT-3.5 moment for video.\\\" [...] Meta last week announced Vibes, its own social app for sharing AI videos.\\n Speaking to reporters ahead of the launch, the Sora team said the app is built to spark creativity over passive consumption, framing it as a tool for real-world friends.\\n The company also outlined a list of controls available for parents, including deciding whether or not teens have access to direct messages and whether their feed should be interrupted after extended scrolling.\", \"raw_content\": null}], \"response_time\": 0.78, \"request_id\": \"86fc275b-2e46-4646-9887-09ecac777141\"}\n",
      "==================================\u001b[1m Ai Message \u001b[0m==================================\n",
      "\n",
      "**Latest Sora news (as of 30 Sep 2025)**  \n",
      "OpenAI has just launched **Sora 2**, the next‑generation video‑generation model that powers a new social app called **Sora**. According to NBC News and Axios, the update brings:\n",
      "\n",
      "* **Photorealistic video and audio generation** with improved physics simulation (e.g., smoother motion of objects like basketballs or skateboards).  \n",
      "* **Synchronized audio‑video** and dialogue support, enabling more natural‑sounding scenes.  \n",
      "* A **social‑platform‑style app** for iOS (Android to follow) that lets users create, remix, and share AI‑generated videos, including cameo‑style features (e.g., user likenesses riding dragons).  \n",
      "* **Invite‑only access** for now, with a request‑feature in the app.  \n",
      "* Enhanced **parental controls** (message access, feed interruptions, etc.).\n",
      "\n",
      "> *Sources:* NBC News – “ChatGPT parent company OpenAI announces Sora 2 with AI video app” (30 Sep 2025); Axios – “OpenAI’s Sora app lets friends swap AI video cameos” (30 Sep 2025).\n",
      "\n",
      "---\n",
      "\n",
      "**Calculation**\n",
      "\n",
      "1. \\(2 \\times 3.3 = 6.6\\)  \n",
      "2. \\(6.6 + 10 = 16.6\\)\n",
      "\n",
      "**Answer:** **16.6**\n"
     ]
    }
   ],
   "source": [
    "## Multiplication part\n",
    "response= graph.invoke({\"messages\": \"give me the latest sora news then What 2*3.3 then add 10\"})\n",
    "response[\"messages\"][-1].content\n",
    "for m in response[\"messages\"]:\n",
    "    m.pretty_print()\n",
    "\n",
    "## here you can see tool call happened but only 1st one happened, not the multiply. "
   ]
  },
  {
   "cell_type": "code",
   "execution_count": 24,
   "id": "ed29cb75",
   "metadata": {},
   "outputs": [
    {
     "name": "stdout",
     "output_type": "stream",
     "text": [
      "================================\u001b[1m Human Message \u001b[0m=================================\n",
      "\n",
      "Hello My name is Souvick.\n",
      "==================================\u001b[1m Ai Message \u001b[0m==================================\n",
      "\n",
      "Hello Souvick! 👋 How can I help you today?\n"
     ]
    }
   ],
   "source": [
    "response= graph.invoke({\"messages\": \"Hello My name is Souvick.\"})\n",
    "response[\"messages\"][-1].content\n",
    "for m in response[\"messages\"]:\n",
    "    m.pretty_print()\n"
   ]
  }
 ],
 "metadata": {
  "kernelspec": {
   "display_name": "Local_AI_Agent",
   "language": "python",
   "name": "python3"
  },
  "language_info": {
   "codemirror_mode": {
    "name": "ipython",
    "version": 3
   },
   "file_extension": ".py",
   "mimetype": "text/x-python",
   "name": "python",
   "nbconvert_exporter": "python",
   "pygments_lexer": "ipython3",
   "version": "3.13.2"
  }
 },
 "nbformat": 4,
 "nbformat_minor": 5
}
