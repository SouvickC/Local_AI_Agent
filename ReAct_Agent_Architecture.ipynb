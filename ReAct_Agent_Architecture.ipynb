{
 "cells": [
  {
   "cell_type": "markdown",
   "id": "12aad0fe",
   "metadata": {},
   "source": [
    "### ReAct Agent Architecture Chatbot"
   ]
  },
  {
   "cell_type": "code",
   "execution_count": 2,
   "id": "6f672ad6",
   "metadata": {},
   "outputs": [],
   "source": [
    "from typing import Annotated\n",
    "\n",
    "from typing_extensions import TypedDict\n",
    "\n",
    "from langgraph.graph import  StateGraph, START, END\n",
    "from langgraph.graph.message import add_messages ## work add the msg appeneded to the state"
   ]
  },
  {
   "cell_type": "code",
   "execution_count": 3,
   "id": "b32998c5",
   "metadata": {},
   "outputs": [
    {
     "data": {
      "text/plain": [
       "<langgraph.graph.state.StateGraph at 0x22144e08d70>"
      ]
     },
     "execution_count": 3,
     "metadata": {},
     "output_type": "execute_result"
    }
   ],
   "source": [
    "## state\n",
    "class State(TypedDict):\n",
    "    # Msg have type list defines how this state key should be updated\n",
    "\n",
    "    messages : Annotated[list, add_messages] ## appended to the list\n",
    "\n",
    "graph_builder =StateGraph(State)\n",
    "\n",
    "graph_builder"
   ]
  },
  {
   "cell_type": "code",
   "execution_count": 4,
   "id": "de5e0e32",
   "metadata": {},
   "outputs": [
    {
     "data": {
      "text/plain": [
       "True"
      ]
     },
     "execution_count": 4,
     "metadata": {},
     "output_type": "execute_result"
    }
   ],
   "source": [
    "## Building the graph\n",
    "\n",
    "import os\n",
    "from dotenv import load_dotenv\n",
    "load_dotenv()\n"
   ]
  },
  {
   "cell_type": "code",
   "execution_count": 5,
   "id": "9d32c354",
   "metadata": {},
   "outputs": [],
   "source": [
    "from langchain_groq import  ChatGroq\n",
    "from langchain.chat_models import init_chat_model\n",
    "\n",
    "llm =ChatGroq(model=\"openai/gpt-oss-20b\")"
   ]
  },
  {
   "cell_type": "code",
   "execution_count": 6,
   "id": "7c270dcf",
   "metadata": {},
   "outputs": [],
   "source": [
    "## node Chatbot\n",
    "\n",
    "def chatbot(state:State):\n",
    "    return {\"messages\": [llm.invoke(state['messages'])]}"
   ]
  },
  {
   "cell_type": "code",
   "execution_count": 7,
   "id": "12c0dea9",
   "metadata": {},
   "outputs": [],
   "source": [
    "# from langchain_community.tools import BraveSearch"
   ]
  },
  {
   "cell_type": "code",
   "execution_count": 8,
   "id": "918f115f",
   "metadata": {},
   "outputs": [],
   "source": [
    "from langchain_tavily import TavilySearch\n",
    "\n",
    "websearch_tool =TavilySearch(max_results=2)\n"
   ]
  },
  {
   "cell_type": "code",
   "execution_count": 9,
   "id": "a6737b58",
   "metadata": {},
   "outputs": [],
   "source": [
    "def multiply(a : int, b:int)-> int:\n",
    "    \"\"\" \n",
    "    Multiply a and b\n",
    "    Args:\n",
    "        a first int\n",
    "        b seoncd int\n",
    "    return: \n",
    "        int output\n",
    "    \"\"\"\n",
    "    return a*b\n",
    "\n",
    "def add(a : int, b:int)-> int:\n",
    "    \"\"\" \n",
    "    add a and b\n",
    "    Args:\n",
    "        a first int\n",
    "        b seoncd int\n",
    "    return: \n",
    "        int output\n",
    "    \"\"\"\n",
    "    return a+b"
   ]
  },
  {
   "cell_type": "code",
   "execution_count": 10,
   "id": "dff5ef85",
   "metadata": {},
   "outputs": [
    {
     "data": {
      "text/plain": [
       "RunnableBinding(bound=ChatGroq(client=<groq.resources.chat.completions.Completions object at 0x00000221465D6120>, async_client=<groq.resources.chat.completions.AsyncCompletions object at 0x00000221465D6E40>, model_name='openai/gpt-oss-20b', model_kwargs={}, groq_api_key=SecretStr('**********')), kwargs={'tools': [{'type': 'function', 'function': {'name': 'tavily_search', 'description': 'A search engine optimized for comprehensive, accurate, and trusted results. Useful for when you need to answer questions about current events. It not only retrieves URLs and snippets, but offers advanced search depths, domain management, time range filters, and image search, this tool delivers real-time, accurate, and citation-backed results.Input should be a search query.', 'parameters': {'properties': {'query': {'description': 'Search query to look up', 'type': 'string'}, 'include_domains': {'anyOf': [{'items': {'type': 'string'}, 'type': 'array'}, {'type': 'null'}], 'default': [], 'description': 'A list of domains to restrict search results to.\\n\\n        Use this parameter when:\\n        1. The user explicitly requests information from specific websites (e.g., \"Find climate data from nasa.gov\")\\n        2. The user mentions an organization or company without specifying the domain (e.g., \"Find information about iPhones from Apple\")\\n\\n        In both cases, you should determine the appropriate domains (e.g., [\"nasa.gov\"] or [\"apple.com\"]) and set this parameter.\\n\\n        Results will ONLY come from the specified domains - no other sources will be included.\\n        Default is None (no domain restriction).\\n        '}, 'exclude_domains': {'anyOf': [{'items': {'type': 'string'}, 'type': 'array'}, {'type': 'null'}], 'default': [], 'description': 'A list of domains to exclude from search results.\\n\\n        Use this parameter when:\\n        1. The user explicitly requests to avoid certain websites (e.g., \"Find information about climate change but not from twitter.com\")\\n        2. The user mentions not wanting results from specific organizations without naming the domain (e.g., \"Find phone reviews but nothing from Apple\")\\n\\n        In both cases, you should determine the appropriate domains to exclude (e.g., [\"twitter.com\"] or [\"apple.com\"]) and set this parameter.\\n\\n        Results will filter out all content from the specified domains.\\n        Default is None (no domain exclusion).\\n        '}, 'search_depth': {'anyOf': [{'enum': ['basic', 'advanced'], 'type': 'string'}, {'type': 'null'}], 'default': 'basic', 'description': 'Controls search thoroughness and result comprehensiveness.\\n    \\n        Use \"basic\" for simple queries requiring quick, straightforward answers.\\n        \\n        Use \"advanced\" (default) for complex queries, specialized topics, \\n        rare information, or when in-depth analysis is needed.\\n        '}, 'include_images': {'anyOf': [{'type': 'boolean'}, {'type': 'null'}], 'default': False, 'description': 'Determines if the search returns relevant images along with text results.\\n   \\n        Set to True when the user explicitly requests visuals or when images would \\n        significantly enhance understanding (e.g., \"Show me what black holes look like,\" \\n        \"Find pictures of Renaissance art\").\\n        \\n        Leave as False (default) for most informational queries where text is sufficient.\\n        '}, 'time_range': {'anyOf': [{'enum': ['day', 'week', 'month', 'year'], 'type': 'string'}, {'type': 'null'}], 'default': None, 'description': 'Limits results to content published within a specific timeframe.\\n        \\n        ONLY set this when the user explicitly mentions a time period \\n        (e.g., \"latest AI news,\" \"articles from last week\").\\n        \\n        For less popular or niche topics, use broader time ranges \\n        (\"month\" or \"year\") to ensure sufficient relevant results.\\n   \\n        Options: \"day\" (24h), \"week\" (7d), \"month\" (30d), \"year\" (365d).\\n        \\n        Default is None.\\n        '}, 'topic': {'anyOf': [{'enum': ['general', 'news', 'finance'], 'type': 'string'}, {'type': 'null'}], 'default': 'general', 'description': 'Specifies search category for optimized results.\\n   \\n        Use \"general\" (default) for most queries, INCLUDING those with terms like \\n        \"latest,\" \"newest,\" or \"recent\" when referring to general information.\\n\\n        Use \"finance\" for markets, investments, economic data, or financial news.\\n\\n        Use \"news\" ONLY for politics, sports, or major current events covered by \\n        mainstream media - NOT simply because a query asks for \"new\" information.\\n        '}, 'include_favicon': {'anyOf': [{'type': 'boolean'}, {'type': 'null'}], 'default': False, 'description': \"Determines whether to include favicon URLs for each search result.\\n        \\n        When enabled, each search result will include the website's favicon URL,\\n        which can be useful for:\\n        - Building rich UI interfaces with visual website indicators\\n        - Providing visual cues about the source's credibility or brand\\n        - Creating bookmark-like displays with recognizable site icons\\n        \\n        Set to True when creating user interfaces that benefit from visual branding\\n        or when favicon information enhances the user experience.\\n        \\n        Default is False to minimize response size and API usage.\\n        \"}, 'start_date': {'anyOf': [{'type': 'string'}, {'type': 'null'}], 'default': None, 'description': 'Filters search results to include only content published on or after this date.\\n        \\n        Use this parameter when you need to:\\n        - Find recent developments or updates on a topic\\n        - Exclude outdated information from search results\\n        - Focus on content within a specific timeframe\\n        - Combine with end_date to create a custom date range\\n        \\n        Format must be YYYY-MM-DD (e.g., \"2024-01-15\" for January 15, 2024).\\n        \\n        Examples:\\n        - \"2024-01-01\" - Results from January 1, 2024 onwards\\n        - \"2023-12-25\" - Results from December 25, 2023 onwards\\n        \\n        When combined with end_date, creates a precise date range filter.\\n        \\n        Default is None (no start date restriction).\\n        '}, 'end_date': {'anyOf': [{'type': 'string'}, {'type': 'null'}], 'default': None, 'description': 'Filters search results to include only content published on or before this date.\\n        \\n        Use this parameter when you need to:\\n        - Exclude content published after a certain date\\n        - Study historical information or past events\\n        - Research how topics were covered during specific time periods\\n        - Combine with start_date to create a custom date range\\n        \\n        Format must be YYYY-MM-DD (e.g., \"2024-03-31\" for March 31, 2024).\\n        \\n        Examples:\\n        - \"2024-03-31\" - Results up to and including March 31, 2024\\n        - \"2023-12-31\" - Results up to and including December 31, 2023\\n        \\n        When combined with start_date, creates a precise date range filter.\\n        For example: start_date=\"2024-01-01\", end_date=\"2024-03-31\" \\n        returns results from Q1 2024 only.\\n        \\n        Default is None (no end date restriction).\\n        '}}, 'required': ['query'], 'type': 'object'}}}, {'type': 'function', 'function': {'name': 'multiply', 'description': 'Multiply a and b\\nArgs:\\n    a first int\\n    b seoncd int\\nreturn: \\n    int output', 'parameters': {'properties': {'a': {'type': 'integer'}, 'b': {'type': 'integer'}}, 'required': ['a', 'b'], 'type': 'object'}}}]}, config={}, config_factories=[])"
      ]
     },
     "execution_count": 10,
     "metadata": {},
     "output_type": "execute_result"
    }
   ],
   "source": [
    "tools =[websearch_tool, multiply]\n",
    "llm_with_tools = llm.bind_tools(tools)\n",
    "\n",
    "llm_with_tools"
   ]
  },
  {
   "cell_type": "code",
   "execution_count": 11,
   "id": "7439e544",
   "metadata": {},
   "outputs": [
    {
     "data": {
      "image/png": "[encoded data removed]",
      "text/plain": [
       "<IPython.core.display.Image object>"
      ]
     },
     "metadata": {},
     "output_type": "display_data"
    }
   ],
   "source": [
    "## Stategraph for llm with tool\n",
    "\n",
    "from langgraph.prebuilt import ToolNode, tools_condition\n",
    "\n",
    "\n",
    "def tool_calling_llm(state:State):\n",
    "    return {\"messages\":[llm_with_tools.invoke(state[\"messages\"])]}\n",
    "\n",
    "\n",
    "# Graph\n",
    "builder = StateGraph(State)\n",
    "builder.add_node(\"tool_calling_llm\", tool_calling_llm) ## need to add the name and the definition of the node\n",
    "builder.add_node(\"tools\", ToolNode(tools))\n",
    "\n",
    "\n",
    "# edges\n",
    "builder.add_edge(START, \"tool_calling_llm\")\n",
    "builder.add_conditional_edges(\n",
    "    \"tool_calling_llm\",\n",
    "    tools_condition\n",
    "\n",
    ")\n",
    "\n",
    "## change is here giving feedback here\n",
    "\n",
    "builder.add_edge(\"tools\", \"tool_calling_llm\")\n",
    "\n",
    "graph = builder.compile()\n",
    "\n",
    "# visualize\n",
    "\n",
    "from IPython.display import Image, display\n",
    "\n",
    "try:\n",
    "    display(Image(graph.get_graph().draw_mermaid_png()))\n",
    "except Exception:\n",
    "    pass\n",
    "\n"
   ]
  },
  {
   "cell_type": "code",
   "execution_count": 12,
   "id": "8723c143",
   "metadata": {},
   "outputs": [
    {
     "name": "stdout",
     "output_type": "stream",
     "text": [
      "================================\u001b[1m Human Message \u001b[0m=================================\n",
      "\n",
      "give me the latest sora news then What 2*3.3 then add 10\n",
      "==================================\u001b[1m Ai Message \u001b[0m==================================\n",
      "Tool Calls:\n",
      "  tavily_search (fc_0f58d1ff-8ba9-4f12-820a-1e16457f887a)\n",
      " Call ID: fc_0f58d1ff-8ba9-4f12-820a-1e16457f887a\n",
      "  Args:\n",
      "    include_favicon: False\n",
      "    include_images: False\n",
      "    query: Sora cryptocurrency news\n",
      "    search_depth: advanced\n",
      "    time_range: day\n",
      "=================================\u001b[1m Tool Message \u001b[0m=================================\n",
      "Name: tavily_search\n",
      "\n",
      "{\"query\": \"Sora cryptocurrency news\", \"follow_up_questions\": null, \"answer\": null, \"images\": [], \"results\": [{\"url\": \"https://www.forbes.com/digital-assets/assets/sora-xor/\", \"title\": \"Sora (XOR) Price Today, News & Live Chart\", \"content\": \"$0.000026\\n\\n$0.00\\n\\n5 years\\n\\n$893.18\\n\\n$0.00\\n\\n## Sora News & Related Stories\\n\\nOct 1, 2025\\n\\n### Crypto Confusion Grows As Unchained Joins Pump.fun Amid SEC Scrutiny\\n\\nCrypto’s paradox deepens as Unchained Crypto joins Pump.fun while the SEC and CFTC push tighter oversight, highlighting the clash between innovation and regulation.\\n\\nByBecca BratcherContributor\\n\\nOct 1, 2025\\n\\n### Inventor Of Diamond Hands Meme Warns Against Digital Asset Treasuries [...] ## Sora & Other Cryptocurrencies\\n\\nBitcoinbtc\\n\\n$116,104.00\\n\\n(-0.08%)\\n\\nEthereumeth\\n\\n$4,291.59\\n\\n(-0.13%)\\n\\nXRPxrp\\n\\n$2.91\\n\\n(0.00%)\\n\\nTetherusdt\\n\\n$1.0000\\n\\n(0.00%)\\n\\nBNBbnb\\n\\n$1,022.81\\n\\n(-0.09%)\\n\\nSolanasol\\n\\n$216.31\\n\\n(-0.22%)\\n\\nUSDCusdc\\n\\n$0.9996\\n\\n(+0.00%)\\n\\nDogecoindoge\\n\\n$0.2406\\n\\n(-0.18%)\\n\\nLido Staked Ethersteth\\n\\n$4,256.04\\n\\n(-0.15%)\\n\\nTRONtrx\\n\\n$0.3365\\n\\n(-0.08%) [...] ## Sora & Other Cryptocurrencies\\n\\nBitcoinbtc\\n\\n$116,104.00\\n\\n(-0.08%)\\n\\nEthereumeth\\n\\n$4,291.59\\n\\n(-0.13%)\\n\\nXRPxrp\\n\\n$2.91\\n\\n(0.00%)\\n\\nTetherusdt\\n\\n$1.0000\\n\\n(0.00%)\\n\\nBNBbnb\\n\\n$1,022.81\\n\\n(-0.09%)\\n\\nSolanasol\\n\\n$216.31\\n\\n(-0.22%)\\n\\nUSDCusdc\\n\\n$0.9996\\n\\n(+0.00%)\\n\\nDogecoindoge\\n\\n$0.2406\\n\\n(-0.18%)\\n\\nLido Staked Ethersteth\\n\\n$4,256.04\\n\\n(-0.15%)\\n\\nTRONtrx\\n\\n$0.3365\\n\\n(-0.08%)\\n\\n## Historical Sora Price Information\\n\\nTime period\\n\\nHigh\\n\\nLow\\n\\n7 days\\n\\n$0.00000000\\n\\n$0.00000000\\n\\n30 days\\n\\n$0.00000000\\n\\n$0.00000000\\n\\n1 year\", \"score\": 0.8190992, \"raw_content\": null}, {\"url\": \"https://www.coingecko.com/en/coins/sora\", \"title\": \"Sora Price: XOR Live Price Chart, Market Cap & News Today\", \"content\": \"With a price decline of -78.10% in the last 7 days, Sora (XOR) is underperforming the global cryptocurrency market which is up 0.30%, while underperforming when compared to similar Ethereum Ecosystem cryptocurrencies which are up 12.70%.\\n\\n### How to add Sora (XOR) to MetaMask? [...] Showing 1 to 3 of 3 results\\n\\nRows\\n\\n10\\n\\n50\\n\\n100\\n\\n## Sora Latest News\\n\\nOpenAI’s 'Infinite Slop' Moment: Backlash Mounts Over AI Shopping Push and Video App\\n\\nDecrypt\\n\\nabout 5 hours ago\\n\\nOpenAI Reveals Sora 2 With TikTok-Style Social App That Puts You in the Videos\\n\\nDecrypt\\n\\nabout 8 hours ago\\n\\nOpenAI plans social app for AI-generated videos: Wired\\n\\nCrypto Briefing\\n\\n1 day ago\\n\\n## Sora Guides\\n\\nReviews\\n\\nTop 10 Crypto Cards for 2025 (Updated)\\n\\nOpeyemi Oluwatosin\\n\\n4.03 (33 votes)\\n\\n## Global Sora Prices [...] |  |  |\\n --- |\\n| 24h Range | $0.0187991 – $0.0171435 |\\n| 7d Range | $0.0188530 – $0.0174265 |\\n| All-Time High | $981.83 100.0%  Apr 06, 2021 (over 4 years) |\\n| All-Time Low | $0.0182401 232.8%  Nov 07, 2024 (11 months) |\\n\\n## How do you feel about XOR today?\\n\\nThe community is bearish about Sora (XOR) today.\\n\\n## About Sora\", \"score\": 0.7576693, \"raw_content\": null}], \"response_time\": 2.24, \"request_id\": \"3ee7c6c4-754b-416b-858e-9731272309db\"}\n",
      "==================================\u001b[1m Ai Message \u001b[0m==================================\n",
      "\n",
      "**Latest Sora (XOR) News (as of 1 Oct 2025)**  \n",
      "\n",
      "| Date | Source | Headline | Brief |\n",
      "|------|--------|----------|-------|\n",
      "| Oct 1 2025 | **Forbes – Digital Assets** | “Crypto Confusion Grows As Unchained Joins Pump.fun Amid SEC Scrutiny” | The article notes that Unchained Crypto’s partnership with Pump.fun has drawn increased attention from the SEC and CFTC, highlighting regulatory tensions that could affect Sora and other digital assets. |\n",
      "| Oct 1 2025 | **Forbes – Digital Assets** | “Inventor Of Diamond Hands Meme Warns Against Digital Asset Treasuries” | The piece discusses broader market sentiment around speculative holdings, with Sora among the cryptocurrencies mentioned in the context of “diamond hands” culture. |\n",
      "| Oct 1 2025 | **Coingecko** | “OpenAI Reveals Sora 2 With TikTok‑Style Social App That Puts You in the Videos” | Coingecko’s news feed reports that OpenAI has launched “Sora 2,” a TikTok‑style social platform that incorporates AI‑generated videos, potentially influencing Sora’s brand visibility. |\n",
      "| Oct 1 2025 | **Coingecko** | “OpenAI plans social app for AI‑generated videos: Wired” | Wired covers OpenAI’s plans for an AI‑driven video platform, noting that the project may intersect with the Sora ecosystem. |\n",
      "\n",
      "*Sources: Forbes Digital Assets (Oct 1 2025) and Coingecko news feed (Oct 1 2025).*\n",
      "\n",
      "---\n",
      "\n",
      "### Quick Math\n",
      "\n",
      "1. **2 × 3.3**  \n",
      "   \\[\n",
      "   2 \\times 3.3 = 6.6\n",
      "   \\]\n",
      "\n",
      "2. **Add 10**  \n",
      "   \\[\n",
      "   6.6 + 10 = 16.6\n",
      "   \\]\n",
      "\n",
      "**Result:** **16.6**\n"
     ]
    }
   ],
   "source": [
    "## Multiplication part\n",
    "response= graph.invoke({\"messages\": \"give me the latest sora news then What 2*3.3 then add 10\"})\n",
    "response[\"messages\"][-1].content\n",
    "for m in response[\"messages\"]:\n",
    "    m.pretty_print()\n",
    "\n",
    "## here you can see tool call happened but only 1st one happened, not the multiply. "
   ]
  },
  {
   "cell_type": "code",
   "execution_count": 13,
   "id": "ed29cb75",
   "metadata": {},
   "outputs": [
    {
     "name": "stdout",
     "output_type": "stream",
     "text": [
      "================================\u001b[1m Human Message \u001b[0m=================================\n",
      "\n",
      "Who won the asia cup 2025 and thw winning team won how many times give me the sum\n",
      "==================================\u001b[1m Ai Message \u001b[0m==================================\n",
      "Tool Calls:\n",
      "  tavily_search (fc_35ae06b1-8e4b-49e5-b63c-2317f96f91ed)\n",
      " Call ID: fc_35ae06b1-8e4b-49e5-b63c-2317f96f91ed\n",
      "  Args:\n",
      "    query: Asia Cup 2025 winner\n",
      "    search_depth: advanced\n",
      "=================================\u001b[1m Tool Message \u001b[0m=================================\n",
      "Name: tavily_search\n",
      "\n",
      "{\"query\": \"Asia Cup 2025 winner\", \"follow_up_questions\": null, \"answer\": null, \"images\": [], \"results\": [{\"url\": \"https://www.jagranjosh.com/general-knowledge/asia-cup-2025-winner-who-won-the-17th-edition-of-the-asia-cup-t20-check-awards-and-prize-money-1820002959-1\", \"title\": \"Asia Cup Winner 2025: Who won the 17th Edition of ... - Jagran Josh\", \"content\": \"## Asia Cup 2025 Awards Winners List\\n\\nHere is the complete award winners list for the Asia Cup 2025 season:\\n\\n Asia Cup 2025 Winner: India\\n Asia Cup 2025:  Player of the Series / Man of the Series Award: Abhishek Sharma\\n\\n  > 7️⃣ Matches  \\n  > 3️⃣1️⃣4️⃣ Runs  \\n  > 3️⃣ Fifties  \\n  >   \\n  > For his blockbuster performance in #AsiaCup2025, #TeamIndia opener Abhishek Sharma is named the Player of the Tournament 👏👏@IamAbhiSharma4 pic.twitter.com/AM11dTho7u\\n  >\\n  > — BCCI (@BCCI) September 28, 2025 [...] On Sunday, 28 September 2025, India won the Asia Cup 2025 for the second time after 2016 in the Men's T20 Asia Cup format, marking their total 9th victory in the Asia Cup in this 17th edition of the tournament. By winning the Asia Cup 2025 in the T20 format of India against Pakistan in the grand finale, they lifted the coveted trophy once again. \\n\\nIn the 17th Edition of the Asia Cup T20 format, Team India marked their consistent performance throughout the 17th session of the Asia Cup. [...] ## On 28 September 2025, India clinched their 9th Asia Cup title by defeating Pakistan with five wickets in the grand finale of the 17th T20 edition. The tournament showcased electrifying performances, new talents, and prestigious awards. India received US$30,000 as winners, reaffirming their dominance in Asian cricket history.\\n\\nAdd as a preferred source on Google\\n\\nJoin us\", \"score\": 0.94251215, \"raw_content\": null}, {\"url\": \"https://sportstar.thehindu.com/cricket/asia-cup-2025-final-presentation-ceremony-full-list-of-award-winners-names/article70106502.ece\", \"title\": \"Asia Cup 2025 Final: Full list of award winners - Sportstar - The Hindu\", \"content\": \"India’s Tilak Varma receives a cheque after being adjudged Player of the Match during the presentation ceremony. | Photo Credit: AFP\\n\\nIndia defeated Pakistan by five wickets in the Asia Cup 2025 final in Dubai on Sunday to claim its ninth continental crown.\\n\\nThe post-match presentation was delayed by more than an hour, but eventually went ahead with the winners called onto the stage.\", \"score\": 0.903098, \"raw_content\": null}], \"response_time\": 3.18, \"request_id\": \"dc016ebe-bcce-4a25-9694-d27b88b73bda\"}\n",
      "==================================\u001b[1m Ai Message \u001b[0m==================================\n",
      "\n",
      "**Asia Cup 2025 Winner:** India  \n",
      "**Number of times India has won the Asia Cup (up to 2025):** 9 times  \n",
      "\n",
      "**Sum:** 9  \n",
      "\n",
      "*Source:* The 17th edition of the Asia Cup (T20 format) concluded on 28 September 2025 with India defeating Pakistan in the final, giving India its 9th overall Asia Cup title【1†source】.\n"
     ]
    }
   ],
   "source": [
    "response= graph.invoke({\"messages\": \"Who won the asia cup 2025 and thw winning team won how many times give me the sum\"})\n",
    "response[\"messages\"][-1].content\n",
    "for m in response[\"messages\"]:\n",
    "    m.pretty_print()"
   ]
  },
  {
   "cell_type": "markdown",
   "id": "cc6f009e",
   "metadata": {},
   "source": [
    "## Memory"
   ]
  },
  {
   "cell_type": "code",
   "execution_count": 14,
   "id": "504141d7",
   "metadata": {},
   "outputs": [],
   "source": [
    "from langgraph.checkpoint.memory import MemorySaver"
   ]
  },
  {
   "cell_type": "code",
   "execution_count": 15,
   "id": "ad0230b6",
   "metadata": {},
   "outputs": [
    {
     "data": {
      "image/png": "[encoded data removed]",
      "text/plain": [
       "<IPython.core.display.Image object>"
      ]
     },
     "metadata": {},
     "output_type": "display_data"
    }
   ],
   "source": [
    "## Stategraph for llm with tool\n",
    "\n",
    "from langgraph.prebuilt import ToolNode, tools_condition\n",
    "\n",
    "memory = MemorySaver()\n",
    "\n",
    "def tool_calling_llm(state:State):\n",
    "    return {\"messages\":[llm_with_tools.invoke(state[\"messages\"])]}\n",
    "\n",
    "\n",
    "# Graph\n",
    "builder = StateGraph(State)\n",
    "builder.add_node(\"tool_calling_llm\", tool_calling_llm) ## need to add the name and the definition of the node\n",
    "builder.add_node(\"tools\", ToolNode(tools))\n",
    "\n",
    "\n",
    "# edges\n",
    "builder.add_edge(START, \"tool_calling_llm\")\n",
    "builder.add_conditional_edges(\n",
    "    \"tool_calling_llm\",\n",
    "    tools_condition\n",
    "\n",
    ")\n",
    "\n",
    "## change is here giving feedback here\n",
    "\n",
    "builder.add_edge(\"tools\", \"tool_calling_llm\")\n",
    "\n",
    "graph = builder.compile(checkpointer=memory)\n",
    "\n",
    "# visualize\n",
    "\n",
    "from IPython.display import Image, display\n",
    "\n",
    "try:\n",
    "    display(Image(graph.get_graph().draw_mermaid_png()))\n",
    "except Exception:\n",
    "    pass\n",
    "\n"
   ]
  },
  {
   "cell_type": "code",
   "execution_count": 16,
   "id": "f5456bd7",
   "metadata": {},
   "outputs": [
    {
     "name": "stdout",
     "output_type": "stream",
     "text": [
      "================================\u001b[1m Human Message \u001b[0m=================================\n",
      "\n",
      "My name is Souvick\n",
      "==================================\u001b[1m Ai Message \u001b[0m==================================\n",
      "\n",
      "Nice to meet you, Souvick! How can I help you today?\n"
     ]
    }
   ],
   "source": [
    "## thread id \n",
    "config ={\"configurable\": {\"thread_id\":\"1\"}}\n",
    "\n",
    "response= graph.invoke({\"messages\":\"My name is Souvick\"}, config=config)\n",
    "for m in response[\"messages\"]:\n",
    "    m.pretty_print()"
   ]
  },
  {
   "cell_type": "code",
   "execution_count": 17,
   "id": "6d956b39",
   "metadata": {},
   "outputs": [
    {
     "data": {
      "text/plain": [
       "'Your name is **Souvick**.'"
      ]
     },
     "execution_count": 17,
     "metadata": {},
     "output_type": "execute_result"
    }
   ],
   "source": [
    "response= graph.invoke({\"messages\":\"what is my name ?\"}, config=config)\n",
    "response[\"messages\"][-1].content"
   ]
  },
  {
   "cell_type": "markdown",
   "id": "43dcb1cd",
   "metadata": {},
   "source": [
    "## Streaming\n",
    "\n",
    "values and updates\n",
    "\n",
    "mode = update and value\n",
    "\n",
    "update >> replaced \n",
    "value >> append"
   ]
  },
  {
   "cell_type": "code",
   "execution_count": 18,
   "id": "3830648c",
   "metadata": {},
   "outputs": [
    {
     "data": {
      "image/png": "[encoded data removed]",
      "text/plain": [
       "<IPython.core.display.Image object>"
      ]
     },
     "metadata": {},
     "output_type": "display_data"
    },
    {
     "data": {
      "text/plain": [
       "'I’m sorry, but I don’t have any information about your name. If you’d like me to remember it for future reference during this conversation, just let me know!'"
      ]
     },
     "execution_count": 18,
     "metadata": {},
     "output_type": "execute_result"
    }
   ],
   "source": [
    "def superbot(state:State):\n",
    "    return {\"messages\":[llm_with_tools.invoke(state[\"messages\"])]}\n",
    "\n",
    "## Stategraph for llm with tool\n",
    "\n",
    "from langgraph.prebuilt import ToolNode, tools_condition\n",
    "\n",
    "memory = MemorySaver()\n",
    "\n",
    "def tool_calling_llm(state:State):\n",
    "    return {\"messages\":[llm_with_tools.invoke(state[\"messages\"])]}\n",
    "\n",
    "\n",
    "# Graph\n",
    "builder = StateGraph(State)\n",
    "builder.add_node(\"tool_calling_llm\", tool_calling_llm) ## need to add the name and the definition of the node\n",
    "builder.add_node(\"tools\", ToolNode(tools))\n",
    "\n",
    "\n",
    "# edges\n",
    "builder.add_edge(START, \"tool_calling_llm\")\n",
    "builder.add_conditional_edges(\n",
    "    \"tool_calling_llm\",\n",
    "    tools_condition\n",
    "\n",
    ")\n",
    "\n",
    "## change is here giving feedback here\n",
    "\n",
    "builder.add_edge(\"tools\", \"tool_calling_llm\")\n",
    "\n",
    "graph = builder.compile(checkpointer=memory)\n",
    "\n",
    "# visualize\n",
    "\n",
    "from IPython.display import Image, display\n",
    "\n",
    "try:\n",
    "    display(Image(graph.get_graph().draw_mermaid_png()))\n",
    "except Exception:\n",
    "    pass\n",
    "\n",
    "\n",
    "\n",
    "## thread id \n",
    "config ={\"configurable\": {\"thread_id\":\"1\"}}\n",
    "\n",
    "response= graph.invoke({\"messages\":\"what is my name?\"}, config=config)\n",
    "response[\"messages\"][-1].content\n"
   ]
  },
  {
   "cell_type": "code",
   "execution_count": 19,
   "id": "0b59cf06",
   "metadata": {},
   "outputs": [
    {
     "name": "stdout",
     "output_type": "stream",
     "text": [
      "{'tool_calling_llm': {'messages': [AIMessage(content='Hello Souvick! How can I help you today?', additional_kwargs={'reasoning_content': 'User says \"Hi Souvick here\". Probably just greeting. They might want a response. There\\'s no request. Just greet back.'}, response_metadata={'token_usage': {'completion_tokens': 49, 'prompt_tokens': 1409, 'total_tokens': 1458, 'completion_time': 0.048435778, 'prompt_time': 0.010643609, 'queue_time': 0.086990275, 'total_time': 0.059079387, 'prompt_tokens_details': {'cached_tokens': 1280}}, 'model_name': 'openai/gpt-oss-20b', 'system_fingerprint': 'fp_3d587a02fb', 'service_tier': 'on_demand', 'finish_reason': 'stop', 'logprobs': None}, id='run--8984996e-cad3-4603-92d5-e0e87640472b-0', usage_metadata={'input_tokens': 1409, 'output_tokens': 49, 'total_tokens': 1458})]}}\n"
     ]
    }
   ],
   "source": [
    "config ={\"configurable\": {\"thread_id\":\"3\"}}\n",
    "\n",
    "# response= graph.invoke({\"messages\":\"My name is Souvick\"}, config=config)\n",
    "for chunk in graph.stream({\"messages\": \"Hi Souvick here\"}, config, stream_mode =\"updates\"):\n",
    "    print(chunk)"
   ]
  },
  {
   "cell_type": "code",
   "execution_count": 20,
   "id": "9ed1b1af",
   "metadata": {},
   "outputs": [
    {
     "name": "stdout",
     "output_type": "stream",
     "text": [
      "{'tool_calling_llm': {'messages': [AIMessage(content='Hello Souvick! How can I help you today?', additional_kwargs={'reasoning_content': 'User says \"Hi Souvick here\". Likely greeting. We respond.'}, response_metadata={'token_usage': {'completion_tokens': 38, 'prompt_tokens': 1409, 'total_tokens': 1447, 'completion_time': 0.03944025, 'prompt_time': 0.010410892, 'queue_time': 0.086943826, 'total_time': 0.049851142, 'prompt_tokens_details': {'cached_tokens': 1280}}, 'model_name': 'openai/gpt-oss-20b', 'system_fingerprint': 'fp_c5a89987dc', 'service_tier': 'on_demand', 'finish_reason': 'stop', 'logprobs': None}, id='run--bcf76424-3456-4bcd-b133-8da50e0372b7-0', usage_metadata={'input_tokens': 1409, 'output_tokens': 38, 'total_tokens': 1447})]}}\n"
     ]
    }
   ],
   "source": [
    "config ={\"configurable\": {\"thread_id\":\"2\"}}\n",
    "\n",
    "# response= graph.invoke({\"messages\":\"My name is Souvick\"}, config=config)\n",
    "for chunk in graph.stream({\"messages\": \"Hi Souvick here\"}, config, stream_mode =\"updates\"):\n",
    "    print(chunk)"
   ]
  },
  {
   "cell_type": "code",
   "execution_count": 21,
   "id": "fbc2567b",
   "metadata": {},
   "outputs": [
    {
     "name": "stdout",
     "output_type": "stream",
     "text": [
      "{'messages': [HumanMessage(content='Hi Souvick here', additional_kwargs={}, response_metadata={}, id='7fd3dfd8-8480-409c-a5c1-74f176941d9f'), AIMessage(content='Hello Souvick! How can I help you today?', additional_kwargs={'reasoning_content': 'User says \"Hi Souvick here\". Likely greeting. We respond.'}, response_metadata={'token_usage': {'completion_tokens': 38, 'prompt_tokens': 1409, 'total_tokens': 1447, 'completion_time': 0.03944025, 'prompt_time': 0.010410892, 'queue_time': 0.086943826, 'total_time': 0.049851142, 'prompt_tokens_details': {'cached_tokens': 1280}}, 'model_name': 'openai/gpt-oss-20b', 'system_fingerprint': 'fp_c5a89987dc', 'service_tier': 'on_demand', 'finish_reason': 'stop', 'logprobs': None}, id='run--bcf76424-3456-4bcd-b133-8da50e0372b7-0', usage_metadata={'input_tokens': 1409, 'output_tokens': 38, 'total_tokens': 1447}), HumanMessage(content='what is my name', additional_kwargs={}, response_metadata={}, id='d7e5b91b-a80f-48fe-8ccc-b61554f8d7e8')]}\n",
      "{'messages': [HumanMessage(content='Hi Souvick here', additional_kwargs={}, response_metadata={}, id='7fd3dfd8-8480-409c-a5c1-74f176941d9f'), AIMessage(content='Hello Souvick! How can I help you today?', additional_kwargs={'reasoning_content': 'User says \"Hi Souvick here\". Likely greeting. We respond.'}, response_metadata={'token_usage': {'completion_tokens': 38, 'prompt_tokens': 1409, 'total_tokens': 1447, 'completion_time': 0.03944025, 'prompt_time': 0.010410892, 'queue_time': 0.086943826, 'total_time': 0.049851142, 'prompt_tokens_details': {'cached_tokens': 1280}}, 'model_name': 'openai/gpt-oss-20b', 'system_fingerprint': 'fp_c5a89987dc', 'service_tier': 'on_demand', 'finish_reason': 'stop', 'logprobs': None}, id='run--bcf76424-3456-4bcd-b133-8da50e0372b7-0', usage_metadata={'input_tokens': 1409, 'output_tokens': 38, 'total_tokens': 1447}), HumanMessage(content='what is my name', additional_kwargs={}, response_metadata={}, id='d7e5b91b-a80f-48fe-8ccc-b61554f8d7e8'), AIMessage(content='Your name is Souvick.', additional_kwargs={'reasoning_content': 'User says \"Hi Souvick here\" and asks \"what is my name\". We know from context that their name is Souvick. So answer: your name is Souvick.'}, response_metadata={'token_usage': {'completion_tokens': 56, 'prompt_tokens': 1435, 'total_tokens': 1491, 'completion_time': 0.057520823, 'prompt_time': 0.011377619, 'queue_time': 0.087405915, 'total_time': 0.068898442, 'prompt_tokens_details': {'cached_tokens': 1280}}, 'model_name': 'openai/gpt-oss-20b', 'system_fingerprint': 'fp_c5a89987dc', 'service_tier': 'on_demand', 'finish_reason': 'stop', 'logprobs': None}, id='run--c2eb37b9-1868-4334-9410-9111d08d1da4-0', usage_metadata={'input_tokens': 1435, 'output_tokens': 56, 'total_tokens': 1491})]}\n"
     ]
    }
   ],
   "source": [
    "for chunk in graph.stream({\"messages\": \"what is my name\"}, config, stream_mode =\"values\"):\n",
    "    print(chunk)"
   ]
  }
 ],
 "metadata": {
  "kernelspec": {
   "display_name": "Local_AI_Agent",
   "language": "python",
   "name": "python3"
  },
  "language_info": {
   "codemirror_mode": {
    "name": "ipython",
    "version": 3
   },
   "file_extension": ".py",
   "mimetype": "text/x-python",
   "name": "python",
   "nbconvert_exporter": "python",
   "pygments_lexer": "ipython3",
   "version": "3.13.2"
  }
 },
 "nbformat": 4,
 "nbformat_minor": 5
}
