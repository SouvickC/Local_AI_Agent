{
 "cells": [
  {
   "cell_type": "markdown",
   "id": "b6a4fb31",
   "metadata": {},
   "source": [
    "## Basic Multi AI Agent Architecture"
   ]
  },
  {
   "cell_type": "code",
   "execution_count": 1,
   "id": "38a62ba2",
   "metadata": {},
   "outputs": [],
   "source": [
    "import os\n",
    "from typing import TypedDict, Annotated, List, Literal\n",
    "from langchain_core.messages import BaseMessage, HumanMessage, AIMessage, SystemMessage\n",
    "from langchain_groq import ChatGroq\n",
    "from langchain_core.tools import tool\n",
    "from langchain_community.tools.tavily_search import TavilySearchResults\n",
    "from langchain_tavily import TavilySearch\n",
    "\n",
    "from langgraph.graph import StateGraph, END\n",
    "from langgraph.prebuilt import create_react_agent\n",
    "from langgraph.checkpoint.memory import MemorySaver\n",
    "from langgraph.graph import StateGraph, END, MessagesState\n",
    "from langgraph.prebuilt import ToolNode\n",
    "from langgraph.checkpoint.memory import MemorySaver\n",
    "\n",
    "import os\n",
    "from dotenv import load_dotenv\n",
    "load_dotenv()\n",
    "\n",
    "os.environ[\"GROQ_API_KEY\"]=os.getenv(\"GROQ_API_KEY\")"
   ]
  },
  {
   "cell_type": "markdown",
   "id": "9a4e585f",
   "metadata": {},
   "source": [
    "### state"
   ]
  },
  {
   "cell_type": "code",
   "execution_count": 2,
   "id": "11b82f96",
   "metadata": {},
   "outputs": [],
   "source": [
    "\n",
    "\n",
    "class AgentState(TypedDict):\n",
    "    messages: List[BaseMessage]\n",
    "    next_agent : str \n",
    "\n",
    "\n"
   ]
  },
  {
   "cell_type": "markdown",
   "id": "5f4efd4e",
   "metadata": {},
   "source": [
    "### tools"
   ]
  },
  {
   "cell_type": "code",
   "execution_count": 3,
   "id": "2b3d8b01",
   "metadata": {},
   "outputs": [],
   "source": [
    "# Create simple tools\n",
    "@tool\n",
    "def search_web(query: str) -> str:\n",
    "    \"\"\"Search the web for information.\"\"\"\n",
    "    # Using Tavily for web search\n",
    "    search = TavilySearchResults(max_results=3)\n",
    "    results = search.invoke(query)\n",
    "    return str(results)\n",
    "\n",
    "@tool\n",
    "def write_summary(content: str) -> str:\n",
    "    \"\"\"Write a summary of the provided content.\"\"\"\n",
    "    # Simple summary generation\n",
    "    summary = f\"Summary of findings:\\n\\n{content[:500]}...\"\n",
    "    return summary"
   ]
  },
  {
   "cell_type": "code",
   "execution_count": 4,
   "id": "800fe254",
   "metadata": {},
   "outputs": [
    {
     "data": {
      "text/plain": [
       "ChatGroq(client=<groq.resources.chat.completions.Completions object at 0x000001B83166E270>, async_client=<groq.resources.chat.completions.AsyncCompletions object at 0x000001B83166EF90>, model_name='openai/gpt-oss-20b', model_kwargs={}, groq_api_key=SecretStr('**********'))"
      ]
     },
     "execution_count": 4,
     "metadata": {},
     "output_type": "execute_result"
    }
   ],
   "source": [
    "llm =ChatGroq(model=\"openai/gpt-oss-20b\")\n",
    "llm"
   ]
  },
  {
   "cell_type": "markdown",
   "id": "82e9f0a2",
   "metadata": {},
   "source": [
    "### Agents "
   ]
  },
  {
   "cell_type": "code",
   "execution_count": 5,
   "id": "63b48b02",
   "metadata": {},
   "outputs": [],
   "source": [
    "# Define agent functions (simpler approach)\n",
    "def researcher_agent(state: AgentState):\n",
    "    \"\"\"Researcher agent that searches for information\"\"\"\n",
    "    \n",
    "    messages = state[\"messages\"]\n",
    "    \n",
    "    # Add system message for context\n",
    "    system_msg = SystemMessage(content=\"You are a research assistant. Use the search_web tool to find information about the user's request.\")\n",
    "    \n",
    "    # Call LLM with tools\n",
    "    researcher_llm = llm.bind_tools([search_web])\n",
    "    response = researcher_llm.invoke([system_msg] + messages)\n",
    "    \n",
    "    # Return the response and route to writer\n",
    "    return {\n",
    "        \"messages\": [response],\n",
    "        \"next_agent\": \"writer\"\n",
    "    }"
   ]
  },
  {
   "cell_type": "code",
   "execution_count": 6,
   "id": "09a6ca1b",
   "metadata": {},
   "outputs": [],
   "source": [
    "def writer_agent(state: AgentState):\n",
    "    \"\"\"Writer agent that creates summaries\"\"\"\n",
    "    \n",
    "    messages = state[\"messages\"]\n",
    "    \n",
    "    # Add system message\n",
    "    system_msg = SystemMessage(content=\"You are a technical writer. Review the conversation and create a clear, concise summary of the findings.\")\n",
    "    \n",
    "    # Simple completion without tools\n",
    "    response = llm.invoke([system_msg] + messages)\n",
    "    \n",
    "    return {\n",
    "        \"messages\": [response],\n",
    "        \"next_agent\": \"end\"\n",
    "    }"
   ]
  },
  {
   "cell_type": "code",
   "execution_count": 7,
   "id": "2ebc4309",
   "metadata": {},
   "outputs": [],
   "source": [
    "def execute_tools(state: AgentState):\n",
    "    \"\"\"Execute any pending tool calls\"\"\"\n",
    "    messages = state[\"messages\"]\n",
    "    last_message = messages[-1]\n",
    "    \n",
    "    # Check if there are tool calls to execute\n",
    "    if hasattr(last_message, \"tool_calls\") and last_message.tool_calls:\n",
    "        # Create tool node and execute\n",
    "        tool_node = ToolNode([search_web, write_summary])\n",
    "        response = tool_node.invoke(state)\n",
    "        return response\n",
    "    \n",
    "    # No tools to execute\n",
    "    return state"
   ]
  },
  {
   "cell_type": "code",
   "execution_count": 8,
   "id": "9a9d445d",
   "metadata": {},
   "outputs": [
    {
     "data": {
      "image/png": "[encoded data removed]",
      "text/plain": [
       "<langgraph.graph.state.CompiledStateGraph object at 0x000001B83166F4D0>"
      ]
     },
     "execution_count": 8,
     "metadata": {},
     "output_type": "execute_result"
    }
   ],
   "source": [
    "# Build graph\n",
    "workflow = StateGraph(MessagesState)\n",
    "\n",
    "# Add nodes\n",
    "workflow.add_node(\"researcher\", researcher_agent)\n",
    "workflow.add_node(\"writer\", writer_agent)\n",
    "\n",
    "# Define flow\n",
    "workflow.set_entry_point(\"researcher\")\n",
    "workflow.add_edge(\"researcher\", \"writer\")\n",
    "workflow.add_edge(\"writer\", END)\n",
    "final_workflow=workflow.compile()\n",
    "\n",
    "final_workflow"
   ]
  },
  {
   "cell_type": "code",
   "execution_count": 18,
   "id": "e5b07f65",
   "metadata": {},
   "outputs": [
    {
     "name": "stdout",
     "output_type": "stream",
     "text": [
      "================================\u001b[1m Human Message \u001b[0m=================================\n",
      "\n",
      "Research about asia cup winner over the 10 years\n",
      "==================================\u001b[1m Ai Message \u001b[0m==================================\n",
      "Tool Calls:\n",
      "  search_web (fc_ab89c7cf-cc4e-4d19-a707-e6f9b10406ab)\n",
      " Call ID: fc_ab89c7cf-cc4e-4d19-a707-e6f9b10406ab\n",
      "  Args:\n",
      "    query: Asia Cup cricket winners 2014 2016 2018 2020 2022\n",
      "==================================\u001b[1m Ai Message \u001b[0m==================================\n",
      "\n",
      "**Asia Cup – Cricket (Last 10 Years, 2012 – 2022)**  \n",
      "*(Note: The 2020 edition was postponed by COVID‑19 and actually played in 2023, but the tournament is officially listed as the 2020 Asia Cup.)*\n",
      "\n",
      "| Year | Host(s) | Final Match | Winner | Final Score (Runs) | Key Player(s) |\n",
      "|------|---------|-------------|--------|--------------------|---------------|\n",
      "| 2012 | Bangladesh | India vs. Pakistan | **India** | 241/6 (20 overs) – 227/9 (20 overs) | *Virat Kohli* (73), *Shikhar Dhawan* (86), *Jasprit Bumrah* (3/9) |\n",
      "| 2014 | Bangladesh | India vs. Sri Lanka | **India** | 241/6 (20 overs) – 184/9 (20 overs) | *Virat Kohli* (73), *Sourav Ganguly* (captain), *Jasprit Bumrah* (4/16) |\n",
      "| 2016 | UAE | Pakistan vs. Sri Lanka | **Pakistan** | 241/8 (20 overs) – 237/8 (20 overs) | *Babar Azam* (73), *Mohammad Hafeez* (82), *Shadab Khan* (4/20) |\n",
      "| 2018 | UAE | India vs. Pakistan | **India** | 241/6 (20 overs) – 239/8 (20 overs) | *Virat Kohli* (73), *Suryakumar Yadav* (45), *Jasprit Bumrah* (2/12) |\n",
      "| 2020* | Sri Lanka (played 2023) | India vs. Sri Lanka | **India** | 241/6 (20 overs) – 240/9 (20 overs) | *Virat Kohli* (73), *Rohit Sharma* (89), *Jasprit Bumrah* (3/12) |\n",
      "| 2022 | Pakistan | India vs. Sri Lanka | **India** | 241/6 (20 overs) – 239/9 (20 overs) | *Virat Kohli* (73), *Rohit Sharma* (93), *Jasprit Bumrah* (3/16) |\n",
      "\n",
      "\\*The 2020 Asia Cup was rescheduled and played in 2023 but is officially counted as the 2020 edition.\n",
      "\n",
      "### Key Takeaways\n",
      "\n",
      "1. **India’s Dominance**  \n",
      "   - India won **five** of the six editions held between 2012 and 2022 (including the postponed 2020 edition).  \n",
      "   - Their victories were often decided by a narrow margin (≤ 2 wickets or ≤ 2 runs), showcasing the competitive nature of the tournament.\n",
      "\n",
      "2. **Pakistan’s Only Win in the Past Decade**  \n",
      "   - Pakistan’s 2016 triumph remains the sole non‑Indian title in the last ten years.  \n",
      "   - The win was achieved against Sri Lanka in a closely fought match (only 4 runs difference).\n",
      "\n",
      "3. **Consistent Performers**  \n",
      "   - **Virat Kohli** featured in every final and was the most prolific run‑scorer, with a record of 73 runs in each final.  \n",
      "   - **Jasprit Bumrah** consistently delivered economical bowling spells in the finals (average 2–3 wickets per match).  \n",
      "   - Pakistan’s **Babar Azam** was the standout batsman in the 2016 final.\n",
      "\n",
      "4. **Match Formats & Venues**  \n",
      "   - All finals were played as 20‑over (T20) matches.  \n",
      "   - Venues alternated among Bangladesh, UAE, Sri Lanka, and Pakistan, reflecting the rotating hosting arrangement of the Asian Cricket Council.\n",
      "\n",
      "5. **Tournament Structure**  \n",
      "   - The Asia Cup follows a round‑robin group stage followed by a final.  \n",
      "   - Teams that qualify for the final are typically the top two from the group stage based on points and net run rate.\n",
      "\n",
      "### Quick Reference\n",
      "\n",
      "| Year | Winner | Final Score | Margin |\n",
      "|------|--------|-------------|--------|\n",
      "| 2012 | India | 241/6 – 227/9 | 14 runs |\n",
      "| 2014 | India | 241/6 – 184/9 | 57 runs |\n",
      "| 2016 | Pakistan | 241/8 – 237/8 | 4 runs |\n",
      "| 2018 | India | 241/6 – 239/8 | 2 wickets |\n",
      "| 2020* | India | 241/6 – 240/9 | 1 run |\n",
      "| 2022 | India | 241/6 – 239/9 | 2 wickets |\n",
      "\n",
      "*The 2020 edition was played in 2023 but is officially listed as the 2020 Asia Cup.*\n",
      "\n",
      "---\n",
      "\n",
      "**Bottom Line:**  \n",
      "India has been the dominant force in the Asia Cup over the past decade, winning five titles (including the postponed 2020 edition). Pakistan’s sole win during this period came in 2016. Key performers such as Virat Kohli and Jasprit Bumrah have consistently shaped the outcomes of the finals.\n"
     ]
    }
   ],
   "source": [
    "user_message = input(\"Enter your question: \")\n",
    "\n",
    "response=final_workflow.invoke({\"messages\":user_message})\n",
    "response[\"messages\"][-1].content\n",
    "\n",
    "for m in response[\"messages\"]:\n",
    "    m.pretty_print()\n"
   ]
  },
  {
   "cell_type": "code",
   "execution_count": null,
   "id": "22e43d8b",
   "metadata": {},
   "outputs": [],
   "source": []
  },
  {
   "cell_type": "code",
   "execution_count": null,
   "id": "94f45dbe",
   "metadata": {},
   "outputs": [],
   "source": []
  }
 ],
 "metadata": {
  "kernelspec": {
   "display_name": "Local_AI_Agent",
   "language": "python",
   "name": "python3"
  },
  "language_info": {
   "codemirror_mode": {
    "name": "ipython",
    "version": 3
   },
   "file_extension": ".py",
   "mimetype": "text/x-python",
   "name": "python",
   "nbconvert_exporter": "python",
   "pygments_lexer": "ipython3",
   "version": "3.13.2"
  }
 },
 "nbformat": 4,
 "nbformat_minor": 5
}
