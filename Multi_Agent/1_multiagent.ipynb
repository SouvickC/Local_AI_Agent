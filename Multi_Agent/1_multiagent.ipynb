{
 "cells": [
  {
   "cell_type": "markdown",
   "id": "b6a4fb31",
   "metadata": {},
   "source": [
    "## Basic Multi AI Agent Architecture"
   ]
  },
  {
   "cell_type": "code",
   "execution_count": null,
   "id": "38a62ba2",
   "metadata": {},
   "outputs": [],
   "source": [
    "import os\n",
    "from typing import Annotated\n",
    "from typing_extensions import TypedDict\n",
    "\n",
    "from langchain_groq import  ChatGroq\n",
    "from langchain.chat_models import init_chat_model\n",
    "from langchain_core.tools import tool\n",
    "from langchain_tavily import TavilySearch\n",
    "\n",
    "from langgraph.graph import  StateGraph, START, END\n",
    "from langgraph.graph.message import add_messages ## work add the msg appeneded to the state\n",
    "from langgraph.prebuilt import ToolNode, tools_condition\n",
    "from langgraph.types import Command, interrupt\n",
    "from langgraph.checkpoint.memory import MemorySaver\n",
    "\n",
    "from dotenv import load_dotenv\n",
    "load_dotenv()\n",
    "\n",
    "os.environ[\"LC_API_KEY\"] = \"true\""
   ]
  },
  {
   "cell_type": "markdown",
   "id": "9a4e585f",
   "metadata": {},
   "source": [
    "### state"
   ]
  },
  {
   "cell_type": "code",
   "execution_count": null,
   "id": "11b82f96",
   "metadata": {},
   "outputs": [],
   "source": [
    "\n",
    "\n",
    "class AgentState(TypedDict):\n",
    "    # Msg have type list defines how this state key should be updated\n",
    "    next_agent : str # which agent need to go next\n",
    "    # messages : Annotated[list, add_messages] ## appended to the list\n",
    "\n",
    "# graph_builder =StateGraph(AgentState)\n",
    "\n",
    "# graph_builder"
   ]
  },
  {
   "cell_type": "code",
   "execution_count": 6,
   "id": "2b3d8b01",
   "metadata": {},
   "outputs": [],
   "source": [
    "websearch_tool =TavilySearch(max_results=2)\n",
    "\n",
    "\n",
    "@tool\n",
    "def write_summary(content:str)->str:\n",
    "    \"\"\"write summary from the given or provided content\"\"\"\n",
    "    summary = f\"summary of the finding {content[:500]}....\"\n",
    "    return summary"
   ]
  },
  {
   "cell_type": "code",
   "execution_count": 7,
   "id": "800fe254",
   "metadata": {},
   "outputs": [
    {
     "data": {
      "text/plain": [
       "ChatGroq(client=<groq.resources.chat.completions.Completions object at 0x000002205E17A850>, async_client=<groq.resources.chat.completions.AsyncCompletions object at 0x000002205E17B250>, model_name='openai/gpt-oss-20b', model_kwargs={}, groq_api_key=SecretStr('**********'))"
      ]
     },
     "execution_count": 7,
     "metadata": {},
     "output_type": "execute_result"
    }
   ],
   "source": [
    "llm =ChatGroq(model=\"openai/gpt-oss-20b\")\n",
    "llm"
   ]
  },
  {
   "cell_type": "markdown",
   "id": "82e9f0a2",
   "metadata": {},
   "source": [
    "### Agents "
   ]
  },
  {
   "cell_type": "code",
   "execution_count": null,
   "id": "63b48b02",
   "metadata": {},
   "outputs": [],
   "source": [
    "def researcher_agent(state: AgentState):\n",
    "    \"\"\"Researcher agent that searches for information\"\"\"\n",
    "    \n",
    "    messages = state[\"messages\"]\n",
    "    \n",
    "    # Add system message for context\n",
    "    system_msg = SystemMessage(content=\"You are a research assistant. Use the search_web tool to find information about the user's request.\")\n",
    "    \n",
    "    # Call LLM with tools\n",
    "    researcher_llm = llm.bind_tools([search_web])\n",
    "    response = researcher_llm.invoke([system_msg] + messages)\n",
    "    \n",
    "    # Return the response and route to writer\n",
    "    return {\n",
    "        \"messages\": [response],\n",
    "        \"next_agent\": \"writer\"\n",
    "    }"
   ]
  },
  {
   "cell_type": "code",
   "execution_count": null,
   "id": "09a6ca1b",
   "metadata": {},
   "outputs": [],
   "source": [
    "def writer_agent(state: AgentState):\n",
    "    \"\"\"Writer agent that creates summaries\"\"\"\n",
    "    \n",
    "    messages = state[\"messages\"]\n",
    "    \n",
    "    # Add system message\n",
    "    system_msg = SystemMessage(content=\"You are a technical writer. Review the conversation and create a clear, concise summary of the findings.\")\n",
    "    \n",
    "    # Simple completion without tools\n",
    "    response = llm.invoke([system_msg] + messages)\n",
    "    \n",
    "    return {\n",
    "        \"messages\": [response],\n",
    "        \"next_agent\": \"end\"\n",
    "    }"
   ]
  },
  {
   "cell_type": "code",
   "execution_count": null,
   "id": "2ebc4309",
   "metadata": {},
   "outputs": [],
   "source": []
  },
  {
   "cell_type": "code",
   "execution_count": null,
   "id": "9a9d445d",
   "metadata": {},
   "outputs": [],
   "source": []
  },
  {
   "cell_type": "code",
   "execution_count": null,
   "id": "e5b07f65",
   "metadata": {},
   "outputs": [],
   "source": []
  }
 ],
 "metadata": {
  "kernelspec": {
   "display_name": "Local_AI_Agent",
   "language": "python",
   "name": "python3"
  },
  "language_info": {
   "codemirror_mode": {
    "name": "ipython",
    "version": 3
   },
   "file_extension": ".py",
   "mimetype": "text/x-python",
   "name": "python",
   "nbconvert_exporter": "python",
   "pygments_lexer": "ipython3",
   "version": "3.13.2"
  }
 },
 "nbformat": 4,
 "nbformat_minor": 5
}
