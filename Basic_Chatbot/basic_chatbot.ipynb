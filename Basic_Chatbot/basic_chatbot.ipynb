{
 "cells": [
  {
   "cell_type": "markdown",
   "id": "44fe2392",
   "metadata": {},
   "source": [
    "## Graph API"
   ]
  },
  {
   "cell_type": "code",
   "execution_count": 13,
   "id": "4457fce5",
   "metadata": {},
   "outputs": [],
   "source": [
    "from typing import Annotated\n",
    "\n",
    "from typing_extensions import TypedDict\n",
    "\n",
    "from langgraph.graph import  StateGraph, START, END\n",
    "from langgraph.graph.message import add_messages ## work add the msg appeneded to the state"
   ]
  },
  {
   "cell_type": "code",
   "execution_count": 21,
   "id": "1d2e311e",
   "metadata": {},
   "outputs": [
    {
     "data": {
      "text/plain": [
       "<langgraph.graph.state.StateGraph at 0x250cc038cd0>"
      ]
     },
     "execution_count": 21,
     "metadata": {},
     "output_type": "execute_result"
    }
   ],
   "source": [
    "## state\n",
    "class State(TypedDict):\n",
    "    # Msg have type list defines how this state key should be updated\n",
    "\n",
    "    messages : Annotated[list, add_messages] ## appended to the list\n",
    "\n",
    "graph_bilder =StateGraph(State)\n",
    "\n",
    "graph_bilder"
   ]
  },
  {
   "cell_type": "code",
   "execution_count": 24,
   "id": "33c475e2",
   "metadata": {},
   "outputs": [
    {
     "data": {
      "text/plain": [
       "False"
      ]
     },
     "execution_count": 24,
     "metadata": {},
     "output_type": "execute_result"
    }
   ],
   "source": [
    "## Building the graph\n",
    "\n",
    "import os\n",
    "from dotenv import load_dotenv\n",
    "load_dotenv()"
   ]
  },
  {
   "cell_type": "code",
   "execution_count": null,
   "id": "0fbdca2e",
   "metadata": {},
   "outputs": [],
   "source": []
  }
 ],
 "metadata": {
  "kernelspec": {
   "display_name": "Local_AI_Agent",
   "language": "python",
   "name": "python3"
  },
  "language_info": {
   "codemirror_mode": {
    "name": "ipython",
    "version": 3
   },
   "file_extension": ".py",
   "mimetype": "text/x-python",
   "name": "python",
   "nbconvert_exporter": "python",
   "pygments_lexer": "ipython3",
   "version": "3.13.2"
  }
 },
 "nbformat": 4,
 "nbformat_minor": 5
}
